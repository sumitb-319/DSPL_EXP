{
 "cells": [
  {
   "cell_type": "code",
   "execution_count": 1,
   "metadata": {},
   "outputs": [
    {
     "name": "stdout",
     "output_type": "stream",
     "text": [
      "    State_Name  District_Name  Crop_Year  Season  Crop      Area  Production\n",
      "0  Maharashtra              0       1997       0    10       1.0      1113.0\n",
      "1  Maharashtra              0       1997       1     0   17600.0      6300.0\n",
      "2  Maharashtra              0       1997       1     1  274100.0    152800.0\n",
      "3  Maharashtra              0       1997       1     5   40800.0     18600.0\n",
      "4  Maharashtra              0       1997       1     8     900.0      1100.0\n"
     ]
    }
   ],
   "source": [
    "import pandas as pd\n",
    "\n",
    "exp7_data = pd.read_csv('./maha_data.csv')\n",
    "\n",
    "print(exp7_data.head())"
   ]
  },
  {
   "cell_type": "code",
   "execution_count": 2,
   "metadata": {},
   "outputs": [
    {
     "name": "stdout",
     "output_type": "stream",
     "text": [
      "    State_Name  District_Name  Crop_Year  Season  Crop      Area  Production\n",
      "0  Maharashtra              0       1997       0    10       1.0      1113.0\n",
      "1  Maharashtra              0       1997       1     0   17600.0      6300.0\n",
      "2  Maharashtra              0       1997       1     1  274100.0    152800.0\n",
      "3  Maharashtra              0       1997       1     5   40800.0     18600.0\n",
      "4  Maharashtra              0       1997       1     8     900.0      1100.0\n"
     ]
    }
   ],
   "source": [
    "dummy_dataset = exp7_data.copy()\n",
    "\n",
    "print(dummy_dataset.head())"
   ]
  },
  {
   "cell_type": "code",
   "execution_count": 3,
   "metadata": {},
   "outputs": [
    {
     "data": {
      "text/plain": [
       "0      1113.0\n",
       "1      6300.0\n",
       "2    152800.0\n",
       "3     18600.0\n",
       "4      1100.0\n",
       "Name: Production, dtype: float64"
      ]
     },
     "execution_count": 3,
     "metadata": {},
     "output_type": "execute_result"
    }
   ],
   "source": [
    "from scipy import  stats\n",
    "\n",
    "data = dummy_dataset['Production']\n",
    "\n",
    "data.head()"
   ]
  },
  {
   "cell_type": "code",
   "execution_count": 4,
   "metadata": {},
   "outputs": [
    {
     "data": {
      "text/plain": [
       "TtestResult(statistic=15.476782396391592, pvalue=1.5436340509781765e-53, df=12620)"
      ]
     },
     "execution_count": 4,
     "metadata": {},
     "output_type": "execute_result"
    }
   ],
   "source": [
    "stats.ttest_1samp(data, 0) "
   ]
  },
  {
   "cell_type": "code",
   "execution_count": 5,
   "metadata": {},
   "outputs": [
    {
     "data": {
      "text/plain": [
       "TtestResult(statistic=15.476627826878575, pvalue=1.5472772870217576e-53, df=12620)"
      ]
     },
     "execution_count": 5,
     "metadata": {},
     "output_type": "execute_result"
    }
   ],
   "source": [
    "\n",
    "stats.ttest_1samp(data, 1) "
   ]
  },
  {
   "cell_type": "code",
   "execution_count": 7,
   "metadata": {},
   "outputs": [
    {
     "data": {
      "text/plain": [
       "TtestResult(statistic=15.476782396391592, pvalue=1.5436340509781765e-53, df=12620)"
      ]
     },
     "execution_count": 7,
     "metadata": {},
     "output_type": "execute_result"
    }
   ],
   "source": [
    "\n",
    "data2 = dummy_dataset['Production']\n",
    "stats.ttest_1samp(data2, 0)"
   ]
  }
 ],
 "metadata": {
  "kernelspec": {
   "display_name": "Python 3",
   "language": "python",
   "name": "python3"
  },
  "language_info": {
   "codemirror_mode": {
    "name": "ipython",
    "version": 3
   },
   "file_extension": ".py",
   "mimetype": "text/x-python",
   "name": "python",
   "nbconvert_exporter": "python",
   "pygments_lexer": "ipython3",
   "version": "3.8.10"
  }
 },
 "nbformat": 4,
 "nbformat_minor": 2
}
