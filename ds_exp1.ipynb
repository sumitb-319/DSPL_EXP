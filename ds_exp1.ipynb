{
 "cells": [
  {
   "cell_type": "code",
   "execution_count": 1,
   "id": "672a6e2b-0ac4-4095-a36a-b9155bc8846a",
   "metadata": {},
   "outputs": [],
   "source": [
    "import pandas as pd\n",
    "import numpy as np"
   ]
  },
  {
   "cell_type": "code",
   "execution_count": 2,
   "id": "4a0b3503-55b5-45eb-900f-f9264eb9e755",
   "metadata": {},
   "outputs": [],
   "source": [
    "#df = pd.read_csv(\"D:\\DS_python\\crop_production.csv\")\n",
    "df = pd.read_csv(r\"D:\\kaust\\crop_production.csv\")"
   ]
  },
  {
   "cell_type": "code",
   "execution_count": 3,
   "id": "a0f3e290-fc67-45a0-88e4-0e9e37e617e9",
   "metadata": {},
   "outputs": [
    {
     "name": "stdout",
     "output_type": "stream",
     "text": [
      "(246091, 7)\n"
     ]
    }
   ],
   "source": [
    "print(df.shape)"
   ]
  },
  {
   "cell_type": "code",
   "execution_count": 4,
   "id": "68818212-9e28-4d2c-b827-f56c4c6a3697",
   "metadata": {},
   "outputs": [
    {
     "name": "stdout",
     "output_type": "stream",
     "text": [
      "['State_Name', 'District_Name', 'Crop_Year', 'Season', 'Crop', 'Area', 'Production']\n"
     ]
    }
   ],
   "source": [
    "columns = list(df.columns)\n",
    "print(columns)"
   ]
  },
  {
   "cell_type": "code",
   "execution_count": 5,
   "id": "91fe4d02-4e46-4aea-9a29-196dc286ebaa",
   "metadata": {},
   "outputs": [
    {
     "name": "stdout",
     "output_type": "stream",
     "text": [
      "                    State_Name District_Name  Crop_Year       Season  \\\n",
      "0  Andaman and Nicobar Islands      NICOBARS       2000  Kharif        \n",
      "1  Andaman and Nicobar Islands      NICOBARS       2000  Kharif        \n",
      "2  Andaman and Nicobar Islands      NICOBARS       2000  Kharif        \n",
      "3  Andaman and Nicobar Islands      NICOBARS       2000  Whole Year    \n",
      "4  Andaman and Nicobar Islands      NICOBARS       2000  Whole Year    \n",
      "\n",
      "                  Crop    Area  Production  \n",
      "0             Arecanut  1254.0      2000.0  \n",
      "1  Other Kharif pulses     2.0         1.0  \n",
      "2                 Rice   102.0       321.0  \n",
      "3               Banana   176.0       641.0  \n",
      "4            Cashewnut   720.0       165.0  \n"
     ]
    }
   ],
   "source": [
    "print(df.head())"
   ]
  },
  {
   "cell_type": "code",
   "execution_count": 6,
   "id": "e90e15db-eb38-45a3-89e5-1e600d8c85f8",
   "metadata": {},
   "outputs": [
    {
     "name": "stdout",
     "output_type": "stream",
     "text": [
      "           Crop_Year          Area    Production\n",
      "count  246091.000000  2.460910e+05  2.423610e+05\n",
      "mean     2005.643018  1.200282e+04  5.825034e+05\n",
      "std         4.952164  5.052340e+04  1.706581e+07\n",
      "min      1997.000000  4.000000e-02  0.000000e+00\n",
      "25%      2002.000000  8.000000e+01  8.800000e+01\n",
      "50%      2006.000000  5.820000e+02  7.290000e+02\n",
      "75%      2010.000000  4.392000e+03  7.023000e+03\n",
      "max      2015.000000  8.580100e+06  1.250800e+09\n"
     ]
    }
   ],
   "source": [
    "print(df.describe())"
   ]
  },
  {
   "cell_type": "code",
   "execution_count": 7,
   "id": "66e2cf71-880a-4595-ae78-79b975cf5ec4",
   "metadata": {},
   "outputs": [
    {
     "name": "stdout",
     "output_type": "stream",
     "text": [
      "State_Name          0\n",
      "District_Name       0\n",
      "Crop_Year           0\n",
      "Season              0\n",
      "Crop                0\n",
      "Area                0\n",
      "Production       3730\n",
      "dtype: int64\n",
      "Missing values distribution: \n",
      "State_Name       0.000000\n",
      "District_Name    0.000000\n",
      "Crop_Year        0.000000\n",
      "Season           0.000000\n",
      "Crop             0.000000\n",
      "Area             0.000000\n",
      "Production       0.015157\n",
      "dtype: float64\n"
     ]
    }
   ],
   "source": [
    "\n",
    "new_df = df\n",
    " \n",
    "print(new_df.isnull().sum()) \n",
    "print(\"Missing values distribution: \")\n",
    "print(new_df.isnull().mean())\n"
   ]
  },
  {
   "cell_type": "code",
   "execution_count": 8,
   "id": "b83b0abc-6444-4ab3-8b26-1a5bcc61cd68",
   "metadata": {},
   "outputs": [
    {
     "name": "stdout",
     "output_type": "stream",
     "text": [
      "State_Name       False\n",
      "District_Name    False\n",
      "Crop_Year        False\n",
      "Season           False\n",
      "Crop             False\n",
      "Area             False\n",
      "Production        True\n",
      "dtype: bool\n"
     ]
    }
   ],
   "source": [
    "missing_values_columns = new_df.isnull().any()\n",
    "print(missing_values_columns)"
   ]
  },
  {
   "cell_type": "code",
   "execution_count": 9,
   "id": "a89db18e-7a97-48fa-b404-45e1d203ccdb",
   "metadata": {},
   "outputs": [
    {
     "name": "stdout",
     "output_type": "stream",
     "text": [
      "0         False\n",
      "1         False\n",
      "2         False\n",
      "3         False\n",
      "4         False\n",
      "          ...  \n",
      "246086    False\n",
      "246087    False\n",
      "246088    False\n",
      "246089    False\n",
      "246090    False\n",
      "Length: 246091, dtype: bool\n"
     ]
    }
   ],
   "source": [
    "missing_values_rows = new_df.isnull().any(axis=1)\n",
    "print(missing_values_rows)"
   ]
  },
  {
   "cell_type": "code",
   "execution_count": 10,
   "id": "7665e18d-c16a-457c-9560-1637342e21f0",
   "metadata": {},
   "outputs": [
    {
     "name": "stdout",
     "output_type": "stream",
     "text": [
      "Column datatypes: \n",
      "State_Name        object\n",
      "District_Name     object\n",
      "Crop_Year          int64\n",
      "Season            object\n",
      "Crop              object\n",
      "Area             float64\n",
      "Production       float64\n",
      "dtype: object\n"
     ]
    }
   ],
   "source": [
    "print(\"Column datatypes: \")\n",
    "print(new_df.dtypes)"
   ]
  },
  {
   "cell_type": "code",
   "execution_count": 11,
   "id": "fcf72e4f-dcdf-4ceb-851a-8956d397f5e5",
   "metadata": {},
   "outputs": [],
   "source": [
    "grouped_mean_production = new_df.groupby(['State_Name', 'District_Name', 'Crop'])['Production'].mean()\n",
    "\n",
    "for index, row in new_df[new_df['Production'].isnull()].iterrows():\n",
    "    state = row['State_Name']\n",
    "    district = row['District_Name']\n",
    "    crop = row['Crop']\n",
    "\n",
    "    if (state, district, crop) in grouped_mean_production.index:\n",
    "        mean_production = grouped_mean_production[state, district, crop]\n",
    "\n",
    "        new_df.at[index, 'Production'] = mean_production\n",
    "\n"
   ]
  },
  {
   "cell_type": "code",
   "execution_count": 12,
   "id": "835f7420-b6d1-4d0a-86ba-8fe390b4f7bf",
   "metadata": {},
   "outputs": [
    {
     "name": "stdout",
     "output_type": "stream",
     "text": [
      "State_Name         0\n",
      "District_Name      0\n",
      "Crop_Year          0\n",
      "Season             0\n",
      "Crop               0\n",
      "Area               0\n",
      "Production       512\n",
      "dtype: int64\n"
     ]
    }
   ],
   "source": [
    "print(new_df.isnull().sum())"
   ]
  },
  {
   "cell_type": "code",
   "execution_count": 13,
   "id": "581eceb9-ccfe-4839-bb13-7a5ce529cac6",
   "metadata": {},
   "outputs": [],
   "source": [
    "new_df.dropna(subset=['Production'], inplace=True)"
   ]
  },
  {
   "cell_type": "code",
   "execution_count": 14,
   "id": "3c9b9535-bde9-4125-9834-a5971ea2c899",
   "metadata": {},
   "outputs": [
    {
     "name": "stdout",
     "output_type": "stream",
     "text": [
      "State_Name       0\n",
      "District_Name    0\n",
      "Crop_Year        0\n",
      "Season           0\n",
      "Crop             0\n",
      "Area             0\n",
      "Production       0\n",
      "dtype: int64\n"
     ]
    }
   ],
   "source": [
    "print(new_df.isnull().sum())"
   ]
  },
  {
   "cell_type": "code",
   "execution_count": 15,
   "id": "5434663b-4720-4b85-b65d-a87be3e6eebe",
   "metadata": {},
   "outputs": [
    {
     "name": "stdout",
     "output_type": "stream",
     "text": [
      "(245579, 7)\n"
     ]
    }
   ],
   "source": [
    "print(df.shape)"
   ]
  },
  {
   "cell_type": "code",
   "execution_count": null,
   "id": "d36b1aae-fbe2-4a8a-be75-4c69820dd99b",
   "metadata": {},
   "outputs": [],
   "source": []
  },
  {
   "cell_type": "code",
   "execution_count": null,
   "id": "691451b6",
   "metadata": {},
   "outputs": [],
   "source": []
  },
  {
   "cell_type": "code",
   "execution_count": null,
   "id": "4c6af587",
   "metadata": {},
   "outputs": [],
   "source": []
  }
 ],
 "metadata": {
  "kernelspec": {
   "display_name": "Python 3 (ipykernel)",
   "language": "python",
   "name": "python3"
  },
  "language_info": {
   "codemirror_mode": {
    "name": "ipython",
    "version": 3
   },
   "file_extension": ".py",
   "mimetype": "text/x-python",
   "name": "python",
   "nbconvert_exporter": "python",
   "pygments_lexer": "ipython3",
   "version": "3.11.2"
  }
 },
 "nbformat": 4,
 "nbformat_minor": 5
}
