{
 "cells": [
  {
   "cell_type": "markdown",
   "metadata": {
    "id": "MC97PSZ3STRu"
   },
   "source": [
    "### **Q1) \tFor SAT dataset show the outliers using z-score and modifier z-score.**"
   ]
  },
  {
   "cell_type": "code",
   "execution_count": 8,
   "metadata": {
    "executionInfo": {
     "elapsed": 428,
     "status": "ok",
     "timestamp": 1671624724672,
     "user": {
      "displayName": "Pooja Vartake3x 5",
      "userId": "01789600669758711961"
     },
     "user_tz": -330
    },
    "id": "9iITsu34S5IB"
   },
   "outputs": [],
   "source": [
    "%matplotlib inline\n",
    "\n",
    "import sys\n",
    "import scipy\n",
    "import scipy.stats as ss\n",
    "import numpy as np\n",
    "import matplotlib\n",
    "import matplotlib.pyplot as plt\n",
    "import pandas as pd\n",
    "import random"
   ]
  },
  {
   "cell_type": "code",
   "execution_count": null,
   "metadata": {
    "colab": {
     "base_uri": "https://localhost:8080/",
     "height": 223
    },
    "id": "KM9iruepSrMf",
    "outputId": "0876408c-0802-4501-d392-6282c05cb482"
   },
   "outputs": [
    {
     "name": "stdout",
     "output_type": "stream",
     "text": [
      "(130, 2)\n"
     ]
    },
    {
     "data": {
      "text/html": [
       "\n",
       "  <div id=\"df-18375c14-c63a-4f2f-89df-261a0066ceec\">\n",
       "    <div class=\"colab-df-container\">\n",
       "      <div>\n",
       "<style scoped>\n",
       "    .dataframe tbody tr th:only-of-type {\n",
       "        vertical-align: middle;\n",
       "    }\n",
       "\n",
       "    .dataframe tbody tr th {\n",
       "        vertical-align: top;\n",
       "    }\n",
       "\n",
       "    .dataframe thead th {\n",
       "        text-align: right;\n",
       "    }\n",
       "</style>\n",
       "<table border=\"1\" class=\"dataframe\">\n",
       "  <thead>\n",
       "    <tr style=\"text-align: right;\">\n",
       "      <th></th>\n",
       "      <th>District</th>\n",
       "      <th>Participation Rate</th>\n",
       "    </tr>\n",
       "  </thead>\n",
       "  <tbody>\n",
       "    <tr>\n",
       "      <th>0</th>\n",
       "      <td>Ansonia</td>\n",
       "      <td>0.66</td>\n",
       "    </tr>\n",
       "    <tr>\n",
       "      <th>1</th>\n",
       "      <td>Avon</td>\n",
       "      <td>0.90</td>\n",
       "    </tr>\n",
       "    <tr>\n",
       "      <th>2</th>\n",
       "      <td>Berlin</td>\n",
       "      <td>0.81</td>\n",
       "    </tr>\n",
       "    <tr>\n",
       "      <th>3</th>\n",
       "      <td>Bethel</td>\n",
       "      <td>0.86</td>\n",
       "    </tr>\n",
       "    <tr>\n",
       "      <th>4</th>\n",
       "      <td>Bloomfield</td>\n",
       "      <td>0.81</td>\n",
       "    </tr>\n",
       "  </tbody>\n",
       "</table>\n",
       "</div>\n",
       "      <button class=\"colab-df-convert\" onclick=\"convertToInteractive('df-18375c14-c63a-4f2f-89df-261a0066ceec')\"\n",
       "              title=\"Convert this dataframe to an interactive table.\"\n",
       "              style=\"display:none;\">\n",
       "        \n",
       "  <svg xmlns=\"http://www.w3.org/2000/svg\" height=\"24px\"viewBox=\"0 0 24 24\"\n",
       "       width=\"24px\">\n",
       "    <path d=\"M0 0h24v24H0V0z\" fill=\"none\"/>\n",
       "    <path d=\"M18.56 5.44l.94 2.06.94-2.06 2.06-.94-2.06-.94-.94-2.06-.94 2.06-2.06.94zm-11 1L8.5 8.5l.94-2.06 2.06-.94-2.06-.94L8.5 2.5l-.94 2.06-2.06.94zm10 10l.94 2.06.94-2.06 2.06-.94-2.06-.94-.94-2.06-.94 2.06-2.06.94z\"/><path d=\"M17.41 7.96l-1.37-1.37c-.4-.4-.92-.59-1.43-.59-.52 0-1.04.2-1.43.59L10.3 9.45l-7.72 7.72c-.78.78-.78 2.05 0 2.83L4 21.41c.39.39.9.59 1.41.59.51 0 1.02-.2 1.41-.59l7.78-7.78 2.81-2.81c.8-.78.8-2.07 0-2.86zM5.41 20L4 18.59l7.72-7.72 1.47 1.35L5.41 20z\"/>\n",
       "  </svg>\n",
       "      </button>\n",
       "      \n",
       "  <style>\n",
       "    .colab-df-container {\n",
       "      display:flex;\n",
       "      flex-wrap:wrap;\n",
       "      gap: 12px;\n",
       "    }\n",
       "\n",
       "    .colab-df-convert {\n",
       "      background-color: #E8F0FE;\n",
       "      border: none;\n",
       "      border-radius: 50%;\n",
       "      cursor: pointer;\n",
       "      display: none;\n",
       "      fill: #1967D2;\n",
       "      height: 32px;\n",
       "      padding: 0 0 0 0;\n",
       "      width: 32px;\n",
       "    }\n",
       "\n",
       "    .colab-df-convert:hover {\n",
       "      background-color: #E2EBFA;\n",
       "      box-shadow: 0px 1px 2px rgba(60, 64, 67, 0.3), 0px 1px 3px 1px rgba(60, 64, 67, 0.15);\n",
       "      fill: #174EA6;\n",
       "    }\n",
       "\n",
       "    [theme=dark] .colab-df-convert {\n",
       "      background-color: #3B4455;\n",
       "      fill: #D2E3FC;\n",
       "    }\n",
       "\n",
       "    [theme=dark] .colab-df-convert:hover {\n",
       "      background-color: #434B5C;\n",
       "      box-shadow: 0px 1px 3px 1px rgba(0, 0, 0, 0.15);\n",
       "      filter: drop-shadow(0px 1px 2px rgba(0, 0, 0, 0.3));\n",
       "      fill: #FFFFFF;\n",
       "    }\n",
       "  </style>\n",
       "\n",
       "      <script>\n",
       "        const buttonEl =\n",
       "          document.querySelector('#df-18375c14-c63a-4f2f-89df-261a0066ceec button.colab-df-convert');\n",
       "        buttonEl.style.display =\n",
       "          google.colab.kernel.accessAllowed ? 'block' : 'none';\n",
       "\n",
       "        async function convertToInteractive(key) {\n",
       "          const element = document.querySelector('#df-18375c14-c63a-4f2f-89df-261a0066ceec');\n",
       "          const dataTable =\n",
       "            await google.colab.kernel.invokeFunction('convertToInteractive',\n",
       "                                                     [key], {});\n",
       "          if (!dataTable) return;\n",
       "\n",
       "          const docLinkHtml = 'Like what you see? Visit the ' +\n",
       "            '<a target=\"_blank\" href=https://colab.research.google.com/notebooks/data_table.ipynb>data table notebook</a>'\n",
       "            + ' to learn more about interactive tables.';\n",
       "          element.innerHTML = '';\n",
       "          dataTable['output_type'] = 'display_data';\n",
       "          await google.colab.output.renderOutput(dataTable, element);\n",
       "          const docLink = document.createElement('div');\n",
       "          docLink.innerHTML = docLinkHtml;\n",
       "          element.appendChild(docLink);\n",
       "        }\n",
       "      </script>\n",
       "    </div>\n",
       "  </div>\n",
       "  "
      ],
      "text/plain": [
       "     District  Participation Rate\n",
       "0     Ansonia                0.66\n",
       "1        Avon                0.90\n",
       "2      Berlin                0.81\n",
       "3      Bethel                0.86\n",
       "4  Bloomfield                0.81"
      ]
     },
     "execution_count": 7,
     "metadata": {},
     "output_type": "execute_result"
    }
   ],
   "source": [
    "ct_test = pd.read_csv('/content/sample_data/SAT_CT_District_Participation_2012.csv') \n",
    "print(ct_test.shape)\n",
    "ct_test.head()"
   ]
  },
  {
   "cell_type": "code",
   "execution_count": null,
   "metadata": {
    "id": "ZrPfayeAUTGR"
   },
   "outputs": [],
   "source": [
    "mean_rate = ct_test['Participation Rate'].mean()\n",
    "\n",
    "\n",
    "# ddof is the degrees of freedom correction \n",
    "# in the calculation of the standard deviation;\n",
    "# for population standard deviation ddof=0\n",
    "stdev_rate = ct_test['Participation Rate'].std(ddof=0)\n"
   ]
  },
  {
   "cell_type": "code",
   "execution_count": null,
   "metadata": {
    "colab": {
     "base_uri": "https://localhost:8080/"
    },
    "id": "yiIGA5wFU5xW",
    "outputId": "e77661e9-c993-4c27-d61e-7a1fa576c679"
   },
   "outputs": [
    {
     "name": "stdout",
     "output_type": "stream",
     "text": [
      "Mean participation rate is 0.741\n",
      "Standard deviation is 0.136\n"
     ]
    }
   ],
   "source": [
    "print('Mean participation rate is {:.3f}'.format(mean_rate))\n",
    "print('Standard deviation is {:.3f}'.format(stdev_rate))"
   ]
  },
  {
   "cell_type": "markdown",
   "metadata": {
    "id": "7Vh2RGMOU_U9"
   },
   "source": [
    "Calculate the z-score and add the result to the dataframe."
   ]
  },
  {
   "cell_type": "code",
   "execution_count": null,
   "metadata": {
    "colab": {
     "base_uri": "https://localhost:8080/",
     "height": 300
    },
    "id": "MPWIv3uNVB_C",
    "outputId": "54b885aa-187b-4f10-da00-e38e78885dd6"
   },
   "outputs": [
    {
     "data": {
      "text/html": [
       "\n",
       "  <div id=\"df-bd8e9191-600d-4aee-8e1d-0447c3a44574\">\n",
       "    <div class=\"colab-df-container\">\n",
       "      <div>\n",
       "<style scoped>\n",
       "    .dataframe tbody tr th:only-of-type {\n",
       "        vertical-align: middle;\n",
       "    }\n",
       "\n",
       "    .dataframe tbody tr th {\n",
       "        vertical-align: top;\n",
       "    }\n",
       "\n",
       "    .dataframe thead th {\n",
       "        text-align: right;\n",
       "    }\n",
       "</style>\n",
       "<table border=\"1\" class=\"dataframe\">\n",
       "  <thead>\n",
       "    <tr style=\"text-align: right;\">\n",
       "      <th></th>\n",
       "      <th>District</th>\n",
       "      <th>Participation Rate</th>\n",
       "      <th>zscore</th>\n",
       "    </tr>\n",
       "  </thead>\n",
       "  <tbody>\n",
       "    <tr>\n",
       "      <th>0</th>\n",
       "      <td>Ansonia</td>\n",
       "      <td>0.66</td>\n",
       "      <td>-0.593779</td>\n",
       "    </tr>\n",
       "    <tr>\n",
       "      <th>1</th>\n",
       "      <td>Avon</td>\n",
       "      <td>0.90</td>\n",
       "      <td>1.175649</td>\n",
       "    </tr>\n",
       "    <tr>\n",
       "      <th>2</th>\n",
       "      <td>Berlin</td>\n",
       "      <td>0.81</td>\n",
       "      <td>0.512113</td>\n",
       "    </tr>\n",
       "    <tr>\n",
       "      <th>3</th>\n",
       "      <td>Bethel</td>\n",
       "      <td>0.86</td>\n",
       "      <td>0.880744</td>\n",
       "    </tr>\n",
       "    <tr>\n",
       "      <th>4</th>\n",
       "      <td>Bloomfield</td>\n",
       "      <td>0.81</td>\n",
       "      <td>0.512113</td>\n",
       "    </tr>\n",
       "    <tr>\n",
       "      <th>5</th>\n",
       "      <td>Bolton</td>\n",
       "      <td>0.85</td>\n",
       "      <td>0.807018</td>\n",
       "    </tr>\n",
       "    <tr>\n",
       "      <th>6</th>\n",
       "      <td>Branford</td>\n",
       "      <td>0.77</td>\n",
       "      <td>0.217209</td>\n",
       "    </tr>\n",
       "    <tr>\n",
       "      <th>7</th>\n",
       "      <td>Bridgeport</td>\n",
       "      <td>0.58</td>\n",
       "      <td>-1.183589</td>\n",
       "    </tr>\n",
       "  </tbody>\n",
       "</table>\n",
       "</div>\n",
       "      <button class=\"colab-df-convert\" onclick=\"convertToInteractive('df-bd8e9191-600d-4aee-8e1d-0447c3a44574')\"\n",
       "              title=\"Convert this dataframe to an interactive table.\"\n",
       "              style=\"display:none;\">\n",
       "        \n",
       "  <svg xmlns=\"http://www.w3.org/2000/svg\" height=\"24px\"viewBox=\"0 0 24 24\"\n",
       "       width=\"24px\">\n",
       "    <path d=\"M0 0h24v24H0V0z\" fill=\"none\"/>\n",
       "    <path d=\"M18.56 5.44l.94 2.06.94-2.06 2.06-.94-2.06-.94-.94-2.06-.94 2.06-2.06.94zm-11 1L8.5 8.5l.94-2.06 2.06-.94-2.06-.94L8.5 2.5l-.94 2.06-2.06.94zm10 10l.94 2.06.94-2.06 2.06-.94-2.06-.94-.94-2.06-.94 2.06-2.06.94z\"/><path d=\"M17.41 7.96l-1.37-1.37c-.4-.4-.92-.59-1.43-.59-.52 0-1.04.2-1.43.59L10.3 9.45l-7.72 7.72c-.78.78-.78 2.05 0 2.83L4 21.41c.39.39.9.59 1.41.59.51 0 1.02-.2 1.41-.59l7.78-7.78 2.81-2.81c.8-.78.8-2.07 0-2.86zM5.41 20L4 18.59l7.72-7.72 1.47 1.35L5.41 20z\"/>\n",
       "  </svg>\n",
       "      </button>\n",
       "      \n",
       "  <style>\n",
       "    .colab-df-container {\n",
       "      display:flex;\n",
       "      flex-wrap:wrap;\n",
       "      gap: 12px;\n",
       "    }\n",
       "\n",
       "    .colab-df-convert {\n",
       "      background-color: #E8F0FE;\n",
       "      border: none;\n",
       "      border-radius: 50%;\n",
       "      cursor: pointer;\n",
       "      display: none;\n",
       "      fill: #1967D2;\n",
       "      height: 32px;\n",
       "      padding: 0 0 0 0;\n",
       "      width: 32px;\n",
       "    }\n",
       "\n",
       "    .colab-df-convert:hover {\n",
       "      background-color: #E2EBFA;\n",
       "      box-shadow: 0px 1px 2px rgba(60, 64, 67, 0.3), 0px 1px 3px 1px rgba(60, 64, 67, 0.15);\n",
       "      fill: #174EA6;\n",
       "    }\n",
       "\n",
       "    [theme=dark] .colab-df-convert {\n",
       "      background-color: #3B4455;\n",
       "      fill: #D2E3FC;\n",
       "    }\n",
       "\n",
       "    [theme=dark] .colab-df-convert:hover {\n",
       "      background-color: #434B5C;\n",
       "      box-shadow: 0px 1px 3px 1px rgba(0, 0, 0, 0.15);\n",
       "      filter: drop-shadow(0px 1px 2px rgba(0, 0, 0, 0.3));\n",
       "      fill: #FFFFFF;\n",
       "    }\n",
       "  </style>\n",
       "\n",
       "      <script>\n",
       "        const buttonEl =\n",
       "          document.querySelector('#df-bd8e9191-600d-4aee-8e1d-0447c3a44574 button.colab-df-convert');\n",
       "        buttonEl.style.display =\n",
       "          google.colab.kernel.accessAllowed ? 'block' : 'none';\n",
       "\n",
       "        async function convertToInteractive(key) {\n",
       "          const element = document.querySelector('#df-bd8e9191-600d-4aee-8e1d-0447c3a44574');\n",
       "          const dataTable =\n",
       "            await google.colab.kernel.invokeFunction('convertToInteractive',\n",
       "                                                     [key], {});\n",
       "          if (!dataTable) return;\n",
       "\n",
       "          const docLinkHtml = 'Like what you see? Visit the ' +\n",
       "            '<a target=\"_blank\" href=https://colab.research.google.com/notebooks/data_table.ipynb>data table notebook</a>'\n",
       "            + ' to learn more about interactive tables.';\n",
       "          element.innerHTML = '';\n",
       "          dataTable['output_type'] = 'display_data';\n",
       "          await google.colab.output.renderOutput(dataTable, element);\n",
       "          const docLink = document.createElement('div');\n",
       "          docLink.innerHTML = docLinkHtml;\n",
       "          element.appendChild(docLink);\n",
       "        }\n",
       "      </script>\n",
       "    </div>\n",
       "  </div>\n",
       "  "
      ],
      "text/plain": [
       "     District  Participation Rate    zscore\n",
       "0     Ansonia                0.66 -0.593779\n",
       "1        Avon                0.90  1.175649\n",
       "2      Berlin                0.81  0.512113\n",
       "3      Bethel                0.86  0.880744\n",
       "4  Bloomfield                0.81  0.512113\n",
       "5      Bolton                0.85  0.807018\n",
       "6    Branford                0.77  0.217209\n",
       "7  Bridgeport                0.58 -1.183589"
      ]
     },
     "execution_count": 10,
     "metadata": {},
     "output_type": "execute_result"
    }
   ],
   "source": [
    "zscore_rate = ss.zscore(ct_test['Participation Rate'], ddof=0)\n",
    "ct_test = ct_test.assign(zscore=zscore_rate)\n",
    "ct_test.head(8)"
   ]
  },
  {
   "cell_type": "markdown",
   "metadata": {
    "id": "yFFMMzitVNFO"
   },
   "source": [
    "Now identify the anomalies and plot the results."
   ]
  },
  {
   "cell_type": "code",
   "execution_count": null,
   "metadata": {
    "id": "tCMIAsiwVN5s"
   },
   "outputs": [],
   "source": [
    "def plot_anomaly(score_data, threshold):\n",
    "    # Mask to plot values above and below threshold in different colors\n",
    "    score_data = score_data.copy().sort_values(ascending=False).values\n",
    "    ranks = np.linspace(1, len(score_data), len(score_data))\n",
    "    mask_outlier = (score_data < threshold)\n",
    "    \n",
    "    \n",
    "    plt.figure(dpi=150)\n",
    "    plt.plot(ranks[~mask_outlier], score_data[~mask_outlier],'o', color='b',label='OK schools')\n",
    "    plt.plot(ranks[mask_outlier], score_data[mask_outlier],'o', color='r', label='anomalies')\n",
    "    plt.axhline(threshold,color='r',label='threshold', alpha=0.5)\n",
    "    plt.legend(loc = 'lower left')\n",
    "    plt.title('Z-score vs. school district', fontweight='bold')\n",
    "    plt.xlabel('Ranked School district')\n",
    "    plt.ylabel('Z-score')\n",
    "    plt.show()"
   ]
  },
  {
   "cell_type": "code",
   "execution_count": null,
   "metadata": {
    "colab": {
     "base_uri": "https://localhost:8080/",
     "height": 594
    },
    "id": "pDnk0kLNVdGP",
    "outputId": "93d3237b-f265-4a76-b9a0-59ceab5dc68f"
   },
   "outputs": [
    {
     "data": {
      "image/png": "[encoded data removed]",
      "text/plain": [
       "<Figure size 900x600 with 1 Axes>"
      ]
     },
     "metadata": {
      "needs_background": "light"
     },
     "output_type": "display_data"
    }
   ],
   "source": [
    "plot_anomaly(ct_test['zscore'], -2)"
   ]
  },
  {
   "cell_type": "markdown",
   "metadata": {
    "id": "CTAac5UiWEHx"
   },
   "source": [
    "Finally, get a list of the schools that are anomalies."
   ]
  },
  {
   "cell_type": "code",
   "execution_count": null,
   "metadata": {
    "colab": {
     "base_uri": "https://localhost:8080/",
     "height": 174
    },
    "id": "wAoA2a1HWGg6",
    "outputId": "b05e08b7-05a6-4ad3-9749-863474761517"
   },
   "outputs": [
    {
     "data": {
      "text/html": [
       "\n",
       "  <div id=\"df-cc985e7f-94da-4337-8fca-3259ee70a843\">\n",
       "    <div class=\"colab-df-container\">\n",
       "      <div>\n",
       "<style scoped>\n",
       "    .dataframe tbody tr th:only-of-type {\n",
       "        vertical-align: middle;\n",
       "    }\n",
       "\n",
       "    .dataframe tbody tr th {\n",
       "        vertical-align: top;\n",
       "    }\n",
       "\n",
       "    .dataframe thead th {\n",
       "        text-align: right;\n",
       "    }\n",
       "</style>\n",
       "<table border=\"1\" class=\"dataframe\">\n",
       "  <thead>\n",
       "    <tr style=\"text-align: right;\">\n",
       "      <th></th>\n",
       "      <th>District</th>\n",
       "      <th>Participation Rate</th>\n",
       "      <th>zscore</th>\n",
       "    </tr>\n",
       "  </thead>\n",
       "  <tbody>\n",
       "    <tr>\n",
       "      <th>50</th>\n",
       "      <td>New Britain</td>\n",
       "      <td>0.40</td>\n",
       "      <td>-2.510660</td>\n",
       "    </tr>\n",
       "    <tr>\n",
       "      <th>99</th>\n",
       "      <td>Windham</td>\n",
       "      <td>0.37</td>\n",
       "      <td>-2.731839</td>\n",
       "    </tr>\n",
       "    <tr>\n",
       "      <th>121</th>\n",
       "      <td>Eastern Connecticut Regional Educational Servi...</td>\n",
       "      <td>0.39</td>\n",
       "      <td>-2.584386</td>\n",
       "    </tr>\n",
       "    <tr>\n",
       "      <th>125</th>\n",
       "      <td>Stamford Academy</td>\n",
       "      <td>0.28</td>\n",
       "      <td>-3.395374</td>\n",
       "    </tr>\n",
       "  </tbody>\n",
       "</table>\n",
       "</div>\n",
       "      <button class=\"colab-df-convert\" onclick=\"convertToInteractive('df-cc985e7f-94da-4337-8fca-3259ee70a843')\"\n",
       "              title=\"Convert this dataframe to an interactive table.\"\n",
       "              style=\"display:none;\">\n",
       "        \n",
       "  <svg xmlns=\"http://www.w3.org/2000/svg\" height=\"24px\"viewBox=\"0 0 24 24\"\n",
       "       width=\"24px\">\n",
       "    <path d=\"M0 0h24v24H0V0z\" fill=\"none\"/>\n",
       "    <path d=\"M18.56 5.44l.94 2.06.94-2.06 2.06-.94-2.06-.94-.94-2.06-.94 2.06-2.06.94zm-11 1L8.5 8.5l.94-2.06 2.06-.94-2.06-.94L8.5 2.5l-.94 2.06-2.06.94zm10 10l.94 2.06.94-2.06 2.06-.94-2.06-.94-.94-2.06-.94 2.06-2.06.94z\"/><path d=\"M17.41 7.96l-1.37-1.37c-.4-.4-.92-.59-1.43-.59-.52 0-1.04.2-1.43.59L10.3 9.45l-7.72 7.72c-.78.78-.78 2.05 0 2.83L4 21.41c.39.39.9.59 1.41.59.51 0 1.02-.2 1.41-.59l7.78-7.78 2.81-2.81c.8-.78.8-2.07 0-2.86zM5.41 20L4 18.59l7.72-7.72 1.47 1.35L5.41 20z\"/>\n",
       "  </svg>\n",
       "      </button>\n",
       "      \n",
       "  <style>\n",
       "    .colab-df-container {\n",
       "      display:flex;\n",
       "      flex-wrap:wrap;\n",
       "      gap: 12px;\n",
       "    }\n",
       "\n",
       "    .colab-df-convert {\n",
       "      background-color: #E8F0FE;\n",
       "      border: none;\n",
       "      border-radius: 50%;\n",
       "      cursor: pointer;\n",
       "      display: none;\n",
       "      fill: #1967D2;\n",
       "      height: 32px;\n",
       "      padding: 0 0 0 0;\n",
       "      width: 32px;\n",
       "    }\n",
       "\n",
       "    .colab-df-convert:hover {\n",
       "      background-color: #E2EBFA;\n",
       "      box-shadow: 0px 1px 2px rgba(60, 64, 67, 0.3), 0px 1px 3px 1px rgba(60, 64, 67, 0.15);\n",
       "      fill: #174EA6;\n",
       "    }\n",
       "\n",
       "    [theme=dark] .colab-df-convert {\n",
       "      background-color: #3B4455;\n",
       "      fill: #D2E3FC;\n",
       "    }\n",
       "\n",
       "    [theme=dark] .colab-df-convert:hover {\n",
       "      background-color: #434B5C;\n",
       "      box-shadow: 0px 1px 3px 1px rgba(0, 0, 0, 0.15);\n",
       "      filter: drop-shadow(0px 1px 2px rgba(0, 0, 0, 0.3));\n",
       "      fill: #FFFFFF;\n",
       "    }\n",
       "  </style>\n",
       "\n",
       "      <script>\n",
       "        const buttonEl =\n",
       "          document.querySelector('#df-cc985e7f-94da-4337-8fca-3259ee70a843 button.colab-df-convert');\n",
       "        buttonEl.style.display =\n",
       "          google.colab.kernel.accessAllowed ? 'block' : 'none';\n",
       "\n",
       "        async function convertToInteractive(key) {\n",
       "          const element = document.querySelector('#df-cc985e7f-94da-4337-8fca-3259ee70a843');\n",
       "          const dataTable =\n",
       "            await google.colab.kernel.invokeFunction('convertToInteractive',\n",
       "                                                     [key], {});\n",
       "          if (!dataTable) return;\n",
       "\n",
       "          const docLinkHtml = 'Like what you see? Visit the ' +\n",
       "            '<a target=\"_blank\" href=https://colab.research.google.com/notebooks/data_table.ipynb>data table notebook</a>'\n",
       "            + ' to learn more about interactive tables.';\n",
       "          element.innerHTML = '';\n",
       "          dataTable['output_type'] = 'display_data';\n",
       "          await google.colab.output.renderOutput(dataTable, element);\n",
       "          const docLink = document.createElement('div');\n",
       "          docLink.innerHTML = docLinkHtml;\n",
       "          element.appendChild(docLink);\n",
       "        }\n",
       "      </script>\n",
       "    </div>\n",
       "  </div>\n",
       "  "
      ],
      "text/plain": [
       "                                              District  ...    zscore\n",
       "50                                         New Britain  ... -2.510660\n",
       "99                                             Windham  ... -2.731839\n",
       "121  Eastern Connecticut Regional Educational Servi...  ... -2.584386\n",
       "125                                   Stamford Academy  ... -3.395374\n",
       "\n",
       "[4 rows x 3 columns]"
      ]
     },
     "execution_count": 13,
     "metadata": {},
     "output_type": "execute_result"
    }
   ],
   "source": [
    "zscore_anomalies = ct_test[(ct_test['zscore'] < -2)]\n",
    "zscore_anomalies"
   ]
  },
  {
   "cell_type": "markdown",
   "metadata": {
    "id": "uKNPeT_BWM2V"
   },
   "source": [
    "We have found our anomalies, but we still have one thing to do: check our assumption that the data can be modeled approximately as a normal distribution. If this is the case, then we have completed our test. If it isn't, then we cannot connect the z-score with probabilities as we did earlier in this notebook.\n",
    "First, let's bin the data and see what it looks like as a histogram."
   ]
  },
  {
   "cell_type": "code",
   "execution_count": null,
   "metadata": {
    "colab": {
     "base_uri": "https://localhost:8080/",
     "height": 265
    },
    "id": "XP0PQGtjWWWb",
    "outputId": "c93e7d4a-0add-4115-8ede-3cc2ffa77995"
   },
   "outputs": [
    {
     "data": {
      "image/png": "[encoded data removed]",
      "text/plain": [
       "<Figure size 432x288 with 1 Axes>"
      ]
     },
     "metadata": {
      "needs_background": "light"
     },
     "output_type": "display_data"
    }
   ],
   "source": [
    "nbins= 20\n",
    "n_hist, bins_hist, patches_hist = plt.hist(ct_test['Participation Rate'], nbins, density=False,\n",
    "                           cumulative=False, linewidth=1.0, label='data')"
   ]
  },
  {
   "cell_type": "markdown",
   "metadata": {
    "id": "JO2qMCd6XQAu"
   },
   "source": [
    "This histogram has two maxima and is skewed left, so it is not likely to be normal."
   ]
  },
  {
   "cell_type": "markdown",
   "metadata": {
    "id": "r15bZYlZXSen"
   },
   "source": [
    "We can also compare the cumulative distribution function for our data with the CDF of a normal distribution with the same mean and standard deviation of our data."
   ]
  },
  {
   "cell_type": "code",
   "execution_count": null,
   "metadata": {
    "colab": {
     "base_uri": "https://localhost:8080/",
     "height": 279
    },
    "id": "TW80G-iSXXU8",
    "outputId": "e6714ae6-35c8-4335-b38d-efc61bebdd96"
   },
   "outputs": [
    {
     "data": {
      "image/png": "[encoded data removed]",
      "text/plain": [
       "<Figure size 432x288 with 1 Axes>"
      ]
     },
     "metadata": {
      "needs_background": "light"
     },
     "output_type": "display_data"
    }
   ],
   "source": [
    "num_bins = 130\n",
    "normal_dist = [random.gauss(mean_rate, stdev_rate) for _ in range(500)]\n",
    "n, bins, patches = plt.hist(ct_test['Participation Rate'], num_bins, density=True, histtype='step',\n",
    "                           cumulative=True, linewidth=1.0, label='data')\n",
    "plt.hist(normal_dist, num_bins, density=True, histtype='step',\n",
    "                           cumulative=True, linewidth=1.0, label='normal distribution')\n",
    "plt.grid(True)\n",
    "plt.legend(loc='upper left')\n",
    "axes = plt.gca()\n",
    "axes.set_xlim([0.2,1.0])\n",
    "plt.xlabel('Participation Rate')\n",
    "plt.ylabel('Cumulative probability')\n",
    "plt.show()"
   ]
  },
  {
   "cell_type": "code",
   "execution_count": null,
   "metadata": {
    "id": "JJREHPMtf2zP"
   },
   "outputs": [],
   "source": [
    "def modified_zscore(data, consistency_correction=1.4826):\n",
    "    \"\"\"\n",
    "    Returns the modified z score and Median Absolute Deviation (MAD) from the scores in data.\n",
    "    The consistency_correction factor converts the MAD to the standard deviation for a given\n",
    "    distribution. The default value (1.4826) is the conversion factor if the underlying data\n",
    "    is normally distributed\n",
    "    \"\"\"\n",
    "    median = np.median(data)\n",
    "    \n",
    "    deviation_from_med = np.array(data) - median\n",
    "\n",
    "    mad = np.median(np.abs(deviation_from_med))\n",
    "    mod_zscore = deviation_from_med/(consistency_correction*mad)\n",
    "    return mod_zscore, mad"
   ]
  },
  {
   "cell_type": "code",
   "execution_count": null,
   "metadata": {
    "id": "tsb0iNMwf3oc"
   },
   "outputs": [],
   "source": [
    "mad_zscore, mad_participation = modified_zscore(ct_test['Participation Rate'])\n",
    "z_sc_participation = ct_test.assign(zscore_median=mad_zscore)"
   ]
  },
  {
   "cell_type": "code",
   "execution_count": null,
   "metadata": {
    "colab": {
     "base_uri": "https://localhost:8080/",
     "height": 206
    },
    "id": "vcPfHirChOQw",
    "outputId": "c0c58445-9a94-489d-d898-ca608b6b8940"
   },
   "outputs": [
    {
     "data": {
      "text/html": [
       "\n",
       "  <div id=\"df-9993038b-02e4-4741-982e-f37cd8ae0342\">\n",
       "    <div class=\"colab-df-container\">\n",
       "      <div>\n",
       "<style scoped>\n",
       "    .dataframe tbody tr th:only-of-type {\n",
       "        vertical-align: middle;\n",
       "    }\n",
       "\n",
       "    .dataframe tbody tr th {\n",
       "        vertical-align: top;\n",
       "    }\n",
       "\n",
       "    .dataframe thead th {\n",
       "        text-align: right;\n",
       "    }\n",
       "</style>\n",
       "<table border=\"1\" class=\"dataframe\">\n",
       "  <thead>\n",
       "    <tr style=\"text-align: right;\">\n",
       "      <th></th>\n",
       "      <th>District</th>\n",
       "      <th>Participation Rate</th>\n",
       "      <th>zscore</th>\n",
       "      <th>zscore_median</th>\n",
       "    </tr>\n",
       "  </thead>\n",
       "  <tbody>\n",
       "    <tr>\n",
       "      <th>50</th>\n",
       "      <td>New Britain</td>\n",
       "      <td>0.40</td>\n",
       "      <td>-2.510660</td>\n",
       "      <td>-2.585548</td>\n",
       "    </tr>\n",
       "    <tr>\n",
       "      <th>55</th>\n",
       "      <td>New London</td>\n",
       "      <td>0.47</td>\n",
       "      <td>-1.994577</td>\n",
       "      <td>-2.060944</td>\n",
       "    </tr>\n",
       "    <tr>\n",
       "      <th>99</th>\n",
       "      <td>Windham</td>\n",
       "      <td>0.37</td>\n",
       "      <td>-2.731839</td>\n",
       "      <td>-2.810378</td>\n",
       "    </tr>\n",
       "    <tr>\n",
       "      <th>121</th>\n",
       "      <td>Eastern Connecticut Regional Educational Servi...</td>\n",
       "      <td>0.39</td>\n",
       "      <td>-2.584386</td>\n",
       "      <td>-2.660491</td>\n",
       "    </tr>\n",
       "    <tr>\n",
       "      <th>125</th>\n",
       "      <td>Stamford Academy</td>\n",
       "      <td>0.28</td>\n",
       "      <td>-3.395374</td>\n",
       "      <td>-3.484869</td>\n",
       "    </tr>\n",
       "  </tbody>\n",
       "</table>\n",
       "</div>\n",
       "      <button class=\"colab-df-convert\" onclick=\"convertToInteractive('df-9993038b-02e4-4741-982e-f37cd8ae0342')\"\n",
       "              title=\"Convert this dataframe to an interactive table.\"\n",
       "              style=\"display:none;\">\n",
       "        \n",
       "  <svg xmlns=\"http://www.w3.org/2000/svg\" height=\"24px\"viewBox=\"0 0 24 24\"\n",
       "       width=\"24px\">\n",
       "    <path d=\"M0 0h24v24H0V0z\" fill=\"none\"/>\n",
       "    <path d=\"M18.56 5.44l.94 2.06.94-2.06 2.06-.94-2.06-.94-.94-2.06-.94 2.06-2.06.94zm-11 1L8.5 8.5l.94-2.06 2.06-.94-2.06-.94L8.5 2.5l-.94 2.06-2.06.94zm10 10l.94 2.06.94-2.06 2.06-.94-2.06-.94-.94-2.06-.94 2.06-2.06.94z\"/><path d=\"M17.41 7.96l-1.37-1.37c-.4-.4-.92-.59-1.43-.59-.52 0-1.04.2-1.43.59L10.3 9.45l-7.72 7.72c-.78.78-.78 2.05 0 2.83L4 21.41c.39.39.9.59 1.41.59.51 0 1.02-.2 1.41-.59l7.78-7.78 2.81-2.81c.8-.78.8-2.07 0-2.86zM5.41 20L4 18.59l7.72-7.72 1.47 1.35L5.41 20z\"/>\n",
       "  </svg>\n",
       "      </button>\n",
       "      \n",
       "  <style>\n",
       "    .colab-df-container {\n",
       "      display:flex;\n",
       "      flex-wrap:wrap;\n",
       "      gap: 12px;\n",
       "    }\n",
       "\n",
       "    .colab-df-convert {\n",
       "      background-color: #E8F0FE;\n",
       "      border: none;\n",
       "      border-radius: 50%;\n",
       "      cursor: pointer;\n",
       "      display: none;\n",
       "      fill: #1967D2;\n",
       "      height: 32px;\n",
       "      padding: 0 0 0 0;\n",
       "      width: 32px;\n",
       "    }\n",
       "\n",
       "    .colab-df-convert:hover {\n",
       "      background-color: #E2EBFA;\n",
       "      box-shadow: 0px 1px 2px rgba(60, 64, 67, 0.3), 0px 1px 3px 1px rgba(60, 64, 67, 0.15);\n",
       "      fill: #174EA6;\n",
       "    }\n",
       "\n",
       "    [theme=dark] .colab-df-convert {\n",
       "      background-color: #3B4455;\n",
       "      fill: #D2E3FC;\n",
       "    }\n",
       "\n",
       "    [theme=dark] .colab-df-convert:hover {\n",
       "      background-color: #434B5C;\n",
       "      box-shadow: 0px 1px 3px 1px rgba(0, 0, 0, 0.15);\n",
       "      filter: drop-shadow(0px 1px 2px rgba(0, 0, 0, 0.3));\n",
       "      fill: #FFFFFF;\n",
       "    }\n",
       "  </style>\n",
       "\n",
       "      <script>\n",
       "        const buttonEl =\n",
       "          document.querySelector('#df-9993038b-02e4-4741-982e-f37cd8ae0342 button.colab-df-convert');\n",
       "        buttonEl.style.display =\n",
       "          google.colab.kernel.accessAllowed ? 'block' : 'none';\n",
       "\n",
       "        async function convertToInteractive(key) {\n",
       "          const element = document.querySelector('#df-9993038b-02e4-4741-982e-f37cd8ae0342');\n",
       "          const dataTable =\n",
       "            await google.colab.kernel.invokeFunction('convertToInteractive',\n",
       "                                                     [key], {});\n",
       "          if (!dataTable) return;\n",
       "\n",
       "          const docLinkHtml = 'Like what you see? Visit the ' +\n",
       "            '<a target=\"_blank\" href=https://colab.research.google.com/notebooks/data_table.ipynb>data table notebook</a>'\n",
       "            + ' to learn more about interactive tables.';\n",
       "          element.innerHTML = '';\n",
       "          dataTable['output_type'] = 'display_data';\n",
       "          await google.colab.output.renderOutput(dataTable, element);\n",
       "          const docLink = document.createElement('div');\n",
       "          docLink.innerHTML = docLinkHtml;\n",
       "          element.appendChild(docLink);\n",
       "        }\n",
       "      </script>\n",
       "    </div>\n",
       "  </div>\n",
       "  "
      ],
      "text/plain": [
       "                                              District  ...  zscore_median\n",
       "50                                         New Britain  ...      -2.585548\n",
       "55                                          New London  ...      -2.060944\n",
       "99                                             Windham  ...      -2.810378\n",
       "121  Eastern Connecticut Regional Educational Servi...  ...      -2.660491\n",
       "125                                   Stamford Academy  ...      -3.484869\n",
       "\n",
       "[5 rows x 4 columns]"
      ]
     },
     "execution_count": 18,
     "metadata": {},
     "output_type": "execute_result"
    }
   ],
   "source": [
    "mod_zscore_anomalies = z_sc_participation[(z_sc_participation['zscore_median'] < -2)]\n",
    "mod_zscore_anomalies"
   ]
  },
  {
   "cell_type": "code",
   "execution_count": null,
   "metadata": {
    "colab": {
     "base_uri": "https://localhost:8080/",
     "height": 594
    },
    "id": "Af6bHQnwVfua",
    "outputId": "e63da73e-3738-40c7-d230-7e0a8b2dfcc5"
   },
   "outputs": [
    {
     "data": {
      "image/png": "[encoded data removed]",
      "text/plain": [
       "<Figure size 900x600 with 1 Axes>"
      ]
     },
     "metadata": {
      "needs_background": "light"
     },
     "output_type": "display_data"
    }
   ],
   "source": [
    "plot_anomaly(z_sc_participation['zscore_median'], -2)"
   ]
  },
  {
   "cell_type": "code",
   "execution_count": null,
   "metadata": {
    "colab": {
     "base_uri": "https://localhost:8080/"
    },
    "id": "DiDo-lf7KsNX",
    "outputId": "fd55fcb6-1bb4-4a65-996b-6ac08dc5156a"
   },
   "outputs": [
    {
     "data": {
      "text/plain": [
       "count    130.000000\n",
       "mean      -0.033436\n",
       "std        1.020443\n",
       "min       -3.484869\n",
       "25%       -0.618283\n",
       "50%        0.000000\n",
       "75%        0.711962\n",
       "max        1.911057\n",
       "Name: zscore_median, dtype: float64"
      ]
     },
     "execution_count": 20,
     "metadata": {},
     "output_type": "execute_result"
    }
   ],
   "source": [
    "z_sc_participation['zscore_median'].describe()"
   ]
  },
  {
   "cell_type": "code",
   "execution_count": null,
   "metadata": {
    "colab": {
     "base_uri": "https://localhost:8080/"
    },
    "id": "OvpIe181K2Ml",
    "outputId": "3700a5f9-fdbf-481f-e02c-0c95f479ee80"
   },
   "outputs": [
    {
     "data": {
      "text/plain": [
       "count    1.300000e+02\n",
       "mean    -4.208172e-16\n",
       "std      1.003868e+00\n",
       "min     -3.395374e+00\n",
       "25%     -5.753478e-01\n",
       "50%      3.289322e-02\n",
       "75%      7.332920e-01\n",
       "max      1.912911e+00\n",
       "Name: zscore, dtype: float64"
      ]
     },
     "execution_count": 21,
     "metadata": {},
     "output_type": "execute_result"
    }
   ],
   "source": [
    "z_sc_participation['zscore'].describe()"
   ]
  },
  {
   "cell_type": "markdown",
   "metadata": {
    "id": "dg9WHXB5ZdhF"
   },
   "source": [
    "### **Q2) For Football data show the outliers using z-score and modifier z-score.**"
   ]
  },
  {
   "cell_type": "code",
   "execution_count": null,
   "metadata": {
    "colab": {
     "base_uri": "https://localhost:8080/",
     "height": 708
    },
    "id": "H2soChGJZkEJ",
    "outputId": "11d872b6-97ac-4789-d764-008c4af9aaaa"
   },
   "outputs": [
    {
     "data": {
      "text/html": [
       "\n",
       "  <div id=\"df-71ee5668-a472-4173-9927-806a66a1c195\">\n",
       "    <div class=\"colab-df-container\">\n",
       "      <div>\n",
       "<style scoped>\n",
       "    .dataframe tbody tr th:only-of-type {\n",
       "        vertical-align: middle;\n",
       "    }\n",
       "\n",
       "    .dataframe tbody tr th {\n",
       "        vertical-align: top;\n",
       "    }\n",
       "\n",
       "    .dataframe thead th {\n",
       "        text-align: right;\n",
       "    }\n",
       "</style>\n",
       "<table border=\"1\" class=\"dataframe\">\n",
       "  <thead>\n",
       "    <tr style=\"text-align: right;\">\n",
       "      <th></th>\n",
       "      <th>Year</th>\n",
       "      <th>Player(s)</th>\n",
       "      <th>Goals</th>\n",
       "    </tr>\n",
       "  </thead>\n",
       "  <tbody>\n",
       "    <tr>\n",
       "      <th>0</th>\n",
       "      <td>1930</td>\n",
       "      <td>Guillermo Stábile</td>\n",
       "      <td>8</td>\n",
       "    </tr>\n",
       "    <tr>\n",
       "      <th>1</th>\n",
       "      <td>1934</td>\n",
       "      <td>Oldřich Nejedlý</td>\n",
       "      <td>5</td>\n",
       "    </tr>\n",
       "    <tr>\n",
       "      <th>2</th>\n",
       "      <td>1938</td>\n",
       "      <td>Leônidas</td>\n",
       "      <td>7</td>\n",
       "    </tr>\n",
       "    <tr>\n",
       "      <th>3</th>\n",
       "      <td>1950</td>\n",
       "      <td>Ademir</td>\n",
       "      <td>8</td>\n",
       "    </tr>\n",
       "    <tr>\n",
       "      <th>4</th>\n",
       "      <td>1954</td>\n",
       "      <td>Sándor Kocsis</td>\n",
       "      <td>11</td>\n",
       "    </tr>\n",
       "    <tr>\n",
       "      <th>5</th>\n",
       "      <td>1958</td>\n",
       "      <td>Just Fontaine</td>\n",
       "      <td>13</td>\n",
       "    </tr>\n",
       "    <tr>\n",
       "      <th>6</th>\n",
       "      <td>1962</td>\n",
       "      <td>Garrincha, Vavá, Leonel Sánchez, Flórián Alber...</td>\n",
       "      <td>4</td>\n",
       "    </tr>\n",
       "    <tr>\n",
       "      <th>7</th>\n",
       "      <td>1966</td>\n",
       "      <td>Eusébio</td>\n",
       "      <td>9</td>\n",
       "    </tr>\n",
       "    <tr>\n",
       "      <th>8</th>\n",
       "      <td>1970</td>\n",
       "      <td>Gerd Müller</td>\n",
       "      <td>10</td>\n",
       "    </tr>\n",
       "    <tr>\n",
       "      <th>9</th>\n",
       "      <td>1974</td>\n",
       "      <td>Grzegorz Lato</td>\n",
       "      <td>7</td>\n",
       "    </tr>\n",
       "    <tr>\n",
       "      <th>10</th>\n",
       "      <td>1978</td>\n",
       "      <td>Mario Kempes</td>\n",
       "      <td>6</td>\n",
       "    </tr>\n",
       "    <tr>\n",
       "      <th>11</th>\n",
       "      <td>1982</td>\n",
       "      <td>Paolo Rossi</td>\n",
       "      <td>6</td>\n",
       "    </tr>\n",
       "    <tr>\n",
       "      <th>12</th>\n",
       "      <td>1986</td>\n",
       "      <td>Gary Lineker</td>\n",
       "      <td>6</td>\n",
       "    </tr>\n",
       "    <tr>\n",
       "      <th>13</th>\n",
       "      <td>1990</td>\n",
       "      <td>Salvatore Schillaci</td>\n",
       "      <td>6</td>\n",
       "    </tr>\n",
       "    <tr>\n",
       "      <th>14</th>\n",
       "      <td>1994</td>\n",
       "      <td>Hristo Stoichkov, Oleg Salenko</td>\n",
       "      <td>6</td>\n",
       "    </tr>\n",
       "    <tr>\n",
       "      <th>15</th>\n",
       "      <td>1998</td>\n",
       "      <td>Davor Šuker</td>\n",
       "      <td>6</td>\n",
       "    </tr>\n",
       "    <tr>\n",
       "      <th>16</th>\n",
       "      <td>2002</td>\n",
       "      <td>Ronaldo</td>\n",
       "      <td>8</td>\n",
       "    </tr>\n",
       "    <tr>\n",
       "      <th>17</th>\n",
       "      <td>2006</td>\n",
       "      <td>Miroslav Klose</td>\n",
       "      <td>5</td>\n",
       "    </tr>\n",
       "    <tr>\n",
       "      <th>18</th>\n",
       "      <td>2010</td>\n",
       "      <td>Thomas Müller, David Villa, Wesley Sneijder, D...</td>\n",
       "      <td>5</td>\n",
       "    </tr>\n",
       "    <tr>\n",
       "      <th>19</th>\n",
       "      <td>2014</td>\n",
       "      <td>James Rodríguez</td>\n",
       "      <td>6</td>\n",
       "    </tr>\n",
       "    <tr>\n",
       "      <th>20</th>\n",
       "      <td>2018</td>\n",
       "      <td>Harry Kane</td>\n",
       "      <td>6</td>\n",
       "    </tr>\n",
       "  </tbody>\n",
       "</table>\n",
       "</div>\n",
       "      <button class=\"colab-df-convert\" onclick=\"convertToInteractive('df-71ee5668-a472-4173-9927-806a66a1c195')\"\n",
       "              title=\"Convert this dataframe to an interactive table.\"\n",
       "              style=\"display:none;\">\n",
       "        \n",
       "  <svg xmlns=\"http://www.w3.org/2000/svg\" height=\"24px\"viewBox=\"0 0 24 24\"\n",
       "       width=\"24px\">\n",
       "    <path d=\"M0 0h24v24H0V0z\" fill=\"none\"/>\n",
       "    <path d=\"M18.56 5.44l.94 2.06.94-2.06 2.06-.94-2.06-.94-.94-2.06-.94 2.06-2.06.94zm-11 1L8.5 8.5l.94-2.06 2.06-.94-2.06-.94L8.5 2.5l-.94 2.06-2.06.94zm10 10l.94 2.06.94-2.06 2.06-.94-2.06-.94-.94-2.06-.94 2.06-2.06.94z\"/><path d=\"M17.41 7.96l-1.37-1.37c-.4-.4-.92-.59-1.43-.59-.52 0-1.04.2-1.43.59L10.3 9.45l-7.72 7.72c-.78.78-.78 2.05 0 2.83L4 21.41c.39.39.9.59 1.41.59.51 0 1.02-.2 1.41-.59l7.78-7.78 2.81-2.81c.8-.78.8-2.07 0-2.86zM5.41 20L4 18.59l7.72-7.72 1.47 1.35L5.41 20z\"/>\n",
       "  </svg>\n",
       "      </button>\n",
       "      \n",
       "  <style>\n",
       "    .colab-df-container {\n",
       "      display:flex;\n",
       "      flex-wrap:wrap;\n",
       "      gap: 12px;\n",
       "    }\n",
       "\n",
       "    .colab-df-convert {\n",
       "      background-color: #E8F0FE;\n",
       "      border: none;\n",
       "      border-radius: 50%;\n",
       "      cursor: pointer;\n",
       "      display: none;\n",
       "      fill: #1967D2;\n",
       "      height: 32px;\n",
       "      padding: 0 0 0 0;\n",
       "      width: 32px;\n",
       "    }\n",
       "\n",
       "    .colab-df-convert:hover {\n",
       "      background-color: #E2EBFA;\n",
       "      box-shadow: 0px 1px 2px rgba(60, 64, 67, 0.3), 0px 1px 3px 1px rgba(60, 64, 67, 0.15);\n",
       "      fill: #174EA6;\n",
       "    }\n",
       "\n",
       "    [theme=dark] .colab-df-convert {\n",
       "      background-color: #3B4455;\n",
       "      fill: #D2E3FC;\n",
       "    }\n",
       "\n",
       "    [theme=dark] .colab-df-convert:hover {\n",
       "      background-color: #434B5C;\n",
       "      box-shadow: 0px 1px 3px 1px rgba(0, 0, 0, 0.15);\n",
       "      filter: drop-shadow(0px 1px 2px rgba(0, 0, 0, 0.3));\n",
       "      fill: #FFFFFF;\n",
       "    }\n",
       "  </style>\n",
       "\n",
       "      <script>\n",
       "        const buttonEl =\n",
       "          document.querySelector('#df-71ee5668-a472-4173-9927-806a66a1c195 button.colab-df-convert');\n",
       "        buttonEl.style.display =\n",
       "          google.colab.kernel.accessAllowed ? 'block' : 'none';\n",
       "\n",
       "        async function convertToInteractive(key) {\n",
       "          const element = document.querySelector('#df-71ee5668-a472-4173-9927-806a66a1c195');\n",
       "          const dataTable =\n",
       "            await google.colab.kernel.invokeFunction('convertToInteractive',\n",
       "                                                     [key], {});\n",
       "          if (!dataTable) return;\n",
       "\n",
       "          const docLinkHtml = 'Like what you see? Visit the ' +\n",
       "            '<a target=\"_blank\" href=https://colab.research.google.com/notebooks/data_table.ipynb>data table notebook</a>'\n",
       "            + ' to learn more about interactive tables.';\n",
       "          element.innerHTML = '';\n",
       "          dataTable['output_type'] = 'display_data';\n",
       "          await google.colab.output.renderOutput(dataTable, element);\n",
       "          const docLink = document.createElement('div');\n",
       "          docLink.innerHTML = docLinkHtml;\n",
       "          element.appendChild(docLink);\n",
       "        }\n",
       "      </script>\n",
       "    </div>\n",
       "  </div>\n",
       "  "
      ],
      "text/plain": [
       "    Year                                          Player(s)  Goals\n",
       "0   1930                                  Guillermo Stábile      8\n",
       "1   1934                                    Oldřich Nejedlý      5\n",
       "2   1938                                           Leônidas      7\n",
       "3   1950                                             Ademir      8\n",
       "4   1954                                      Sándor Kocsis     11\n",
       "5   1958                                      Just Fontaine     13\n",
       "6   1962  Garrincha, Vavá, Leonel Sánchez, Flórián Alber...      4\n",
       "7   1966                                            Eusébio      9\n",
       "8   1970                                        Gerd Müller     10\n",
       "9   1974                                      Grzegorz Lato      7\n",
       "10  1978                                       Mario Kempes      6\n",
       "11  1982                                        Paolo Rossi      6\n",
       "12  1986                                       Gary Lineker      6\n",
       "13  1990                                Salvatore Schillaci      6\n",
       "14  1994                     Hristo Stoichkov, Oleg Salenko      6\n",
       "15  1998                                        Davor Šuker      6\n",
       "16  2002                                            Ronaldo      8\n",
       "17  2006                                     Miroslav Klose      5\n",
       "18  2010  Thomas Müller, David Villa, Wesley Sneijder, D...      5\n",
       "19  2014                                    James Rodríguez      6\n",
       "20  2018                                         Harry Kane      6"
      ]
     },
     "execution_count": 24,
     "metadata": {},
     "output_type": "execute_result"
    }
   ],
   "source": [
    "# First row is a header row, but the header names are cumbersome. \n",
    "# Skip first row and manually label\n",
    "# Encoding ensures that accents in sames are rendered properly \n",
    "top_goals = pd.read_csv('/content/sample_data/world_cup_top_goal_scorers.csv', \n",
    "                        encoding='utf-8',  \n",
    "                        names=['Year', 'Player(s)', 'Goals'], skiprows=1)                                                                                \n",
    "top_goals"
   ]
  },
  {
   "cell_type": "markdown",
   "metadata": {
    "id": "WY3KU21uZzqt"
   },
   "source": [
    "Once again will start by using the z-score to identify anomalies. As we are interested in the superstars, this time we will have an upper threshold. We choose  z=+2\n",
    " . Above this z-score, any player will be labeled as an anomaly.\n",
    "As before, we calculate the mean and standard deviation."
   ]
  },
  {
   "cell_type": "code",
   "execution_count": null,
   "metadata": {
    "colab": {
     "base_uri": "https://localhost:8080/"
    },
    "id": "P9TI3LDjZ3V6",
    "outputId": "f53ab7d0-8026-4069-99bb-b46f7fc8f8d7"
   },
   "outputs": [
    {
     "name": "stdout",
     "output_type": "stream",
     "text": [
      "Mean number of goals is 7.05\n",
      "Standard deviation is 2.15\n"
     ]
    }
   ],
   "source": [
    "mean_goals = top_goals['Goals'].mean()\n",
    "stdev_goals = top_goals['Goals'].std(ddof=0)\n",
    "print('Mean number of goals is {:.2f}'.format(mean_goals))\n",
    "print('Standard deviation is {:.2f}'.format(stdev_goals))"
   ]
  },
  {
   "cell_type": "markdown",
   "metadata": {
    "id": "CDko0ZCYZ7Pi"
   },
   "source": [
    "Calculate the z-score for each player and add the result to the dataframe."
   ]
  },
  {
   "cell_type": "code",
   "execution_count": null,
   "metadata": {
    "colab": {
     "base_uri": "https://localhost:8080/",
     "height": 708
    },
    "id": "yUQc1WwpZ98G",
    "outputId": "3cce9b5b-650b-40d7-f082-9bbab5131fb6"
   },
   "outputs": [
    {
     "data": {
      "text/html": [
       "\n",
       "  <div id=\"df-7dc1e01c-13b5-418e-8498-56b1dc66c108\">\n",
       "    <div class=\"colab-df-container\">\n",
       "      <div>\n",
       "<style scoped>\n",
       "    .dataframe tbody tr th:only-of-type {\n",
       "        vertical-align: middle;\n",
       "    }\n",
       "\n",
       "    .dataframe tbody tr th {\n",
       "        vertical-align: top;\n",
       "    }\n",
       "\n",
       "    .dataframe thead th {\n",
       "        text-align: right;\n",
       "    }\n",
       "</style>\n",
       "<table border=\"1\" class=\"dataframe\">\n",
       "  <thead>\n",
       "    <tr style=\"text-align: right;\">\n",
       "      <th></th>\n",
       "      <th>Year</th>\n",
       "      <th>Player(s)</th>\n",
       "      <th>Goals</th>\n",
       "      <th>zscore</th>\n",
       "    </tr>\n",
       "  </thead>\n",
       "  <tbody>\n",
       "    <tr>\n",
       "      <th>0</th>\n",
       "      <td>1930</td>\n",
       "      <td>Guillermo Stábile</td>\n",
       "      <td>8</td>\n",
       "      <td>0.443242</td>\n",
       "    </tr>\n",
       "    <tr>\n",
       "      <th>1</th>\n",
       "      <td>1934</td>\n",
       "      <td>Oldřich Nejedlý</td>\n",
       "      <td>5</td>\n",
       "      <td>-0.952971</td>\n",
       "    </tr>\n",
       "    <tr>\n",
       "      <th>2</th>\n",
       "      <td>1938</td>\n",
       "      <td>Leônidas</td>\n",
       "      <td>7</td>\n",
       "      <td>-0.022162</td>\n",
       "    </tr>\n",
       "    <tr>\n",
       "      <th>3</th>\n",
       "      <td>1950</td>\n",
       "      <td>Ademir</td>\n",
       "      <td>8</td>\n",
       "      <td>0.443242</td>\n",
       "    </tr>\n",
       "    <tr>\n",
       "      <th>4</th>\n",
       "      <td>1954</td>\n",
       "      <td>Sándor Kocsis</td>\n",
       "      <td>11</td>\n",
       "      <td>1.839455</td>\n",
       "    </tr>\n",
       "    <tr>\n",
       "      <th>5</th>\n",
       "      <td>1958</td>\n",
       "      <td>Just Fontaine</td>\n",
       "      <td>13</td>\n",
       "      <td>2.770264</td>\n",
       "    </tr>\n",
       "    <tr>\n",
       "      <th>6</th>\n",
       "      <td>1962</td>\n",
       "      <td>Garrincha, Vavá, Leonel Sánchez, Flórián Alber...</td>\n",
       "      <td>4</td>\n",
       "      <td>-1.418375</td>\n",
       "    </tr>\n",
       "    <tr>\n",
       "      <th>7</th>\n",
       "      <td>1966</td>\n",
       "      <td>Eusébio</td>\n",
       "      <td>9</td>\n",
       "      <td>0.908647</td>\n",
       "    </tr>\n",
       "    <tr>\n",
       "      <th>8</th>\n",
       "      <td>1970</td>\n",
       "      <td>Gerd Müller</td>\n",
       "      <td>10</td>\n",
       "      <td>1.374051</td>\n",
       "    </tr>\n",
       "    <tr>\n",
       "      <th>9</th>\n",
       "      <td>1974</td>\n",
       "      <td>Grzegorz Lato</td>\n",
       "      <td>7</td>\n",
       "      <td>-0.022162</td>\n",
       "    </tr>\n",
       "    <tr>\n",
       "      <th>10</th>\n",
       "      <td>1978</td>\n",
       "      <td>Mario Kempes</td>\n",
       "      <td>6</td>\n",
       "      <td>-0.487566</td>\n",
       "    </tr>\n",
       "    <tr>\n",
       "      <th>11</th>\n",
       "      <td>1982</td>\n",
       "      <td>Paolo Rossi</td>\n",
       "      <td>6</td>\n",
       "      <td>-0.487566</td>\n",
       "    </tr>\n",
       "    <tr>\n",
       "      <th>12</th>\n",
       "      <td>1986</td>\n",
       "      <td>Gary Lineker</td>\n",
       "      <td>6</td>\n",
       "      <td>-0.487566</td>\n",
       "    </tr>\n",
       "    <tr>\n",
       "      <th>13</th>\n",
       "      <td>1990</td>\n",
       "      <td>Salvatore Schillaci</td>\n",
       "      <td>6</td>\n",
       "      <td>-0.487566</td>\n",
       "    </tr>\n",
       "    <tr>\n",
       "      <th>14</th>\n",
       "      <td>1994</td>\n",
       "      <td>Hristo Stoichkov, Oleg Salenko</td>\n",
       "      <td>6</td>\n",
       "      <td>-0.487566</td>\n",
       "    </tr>\n",
       "    <tr>\n",
       "      <th>15</th>\n",
       "      <td>1998</td>\n",
       "      <td>Davor Šuker</td>\n",
       "      <td>6</td>\n",
       "      <td>-0.487566</td>\n",
       "    </tr>\n",
       "    <tr>\n",
       "      <th>16</th>\n",
       "      <td>2002</td>\n",
       "      <td>Ronaldo</td>\n",
       "      <td>8</td>\n",
       "      <td>0.443242</td>\n",
       "    </tr>\n",
       "    <tr>\n",
       "      <th>17</th>\n",
       "      <td>2006</td>\n",
       "      <td>Miroslav Klose</td>\n",
       "      <td>5</td>\n",
       "      <td>-0.952971</td>\n",
       "    </tr>\n",
       "    <tr>\n",
       "      <th>18</th>\n",
       "      <td>2010</td>\n",
       "      <td>Thomas Müller, David Villa, Wesley Sneijder, D...</td>\n",
       "      <td>5</td>\n",
       "      <td>-0.952971</td>\n",
       "    </tr>\n",
       "    <tr>\n",
       "      <th>19</th>\n",
       "      <td>2014</td>\n",
       "      <td>James Rodríguez</td>\n",
       "      <td>6</td>\n",
       "      <td>-0.487566</td>\n",
       "    </tr>\n",
       "    <tr>\n",
       "      <th>20</th>\n",
       "      <td>2018</td>\n",
       "      <td>Harry Kane</td>\n",
       "      <td>6</td>\n",
       "      <td>-0.487566</td>\n",
       "    </tr>\n",
       "  </tbody>\n",
       "</table>\n",
       "</div>\n",
       "      <button class=\"colab-df-convert\" onclick=\"convertToInteractive('df-7dc1e01c-13b5-418e-8498-56b1dc66c108')\"\n",
       "              title=\"Convert this dataframe to an interactive table.\"\n",
       "              style=\"display:none;\">\n",
       "        \n",
       "  <svg xmlns=\"http://www.w3.org/2000/svg\" height=\"24px\"viewBox=\"0 0 24 24\"\n",
       "       width=\"24px\">\n",
       "    <path d=\"M0 0h24v24H0V0z\" fill=\"none\"/>\n",
       "    <path d=\"M18.56 5.44l.94 2.06.94-2.06 2.06-.94-2.06-.94-.94-2.06-.94 2.06-2.06.94zm-11 1L8.5 8.5l.94-2.06 2.06-.94-2.06-.94L8.5 2.5l-.94 2.06-2.06.94zm10 10l.94 2.06.94-2.06 2.06-.94-2.06-.94-.94-2.06-.94 2.06-2.06.94z\"/><path d=\"M17.41 7.96l-1.37-1.37c-.4-.4-.92-.59-1.43-.59-.52 0-1.04.2-1.43.59L10.3 9.45l-7.72 7.72c-.78.78-.78 2.05 0 2.83L4 21.41c.39.39.9.59 1.41.59.51 0 1.02-.2 1.41-.59l7.78-7.78 2.81-2.81c.8-.78.8-2.07 0-2.86zM5.41 20L4 18.59l7.72-7.72 1.47 1.35L5.41 20z\"/>\n",
       "  </svg>\n",
       "      </button>\n",
       "      \n",
       "  <style>\n",
       "    .colab-df-container {\n",
       "      display:flex;\n",
       "      flex-wrap:wrap;\n",
       "      gap: 12px;\n",
       "    }\n",
       "\n",
       "    .colab-df-convert {\n",
       "      background-color: #E8F0FE;\n",
       "      border: none;\n",
       "      border-radius: 50%;\n",
       "      cursor: pointer;\n",
       "      display: none;\n",
       "      fill: #1967D2;\n",
       "      height: 32px;\n",
       "      padding: 0 0 0 0;\n",
       "      width: 32px;\n",
       "    }\n",
       "\n",
       "    .colab-df-convert:hover {\n",
       "      background-color: #E2EBFA;\n",
       "      box-shadow: 0px 1px 2px rgba(60, 64, 67, 0.3), 0px 1px 3px 1px rgba(60, 64, 67, 0.15);\n",
       "      fill: #174EA6;\n",
       "    }\n",
       "\n",
       "    [theme=dark] .colab-df-convert {\n",
       "      background-color: #3B4455;\n",
       "      fill: #D2E3FC;\n",
       "    }\n",
       "\n",
       "    [theme=dark] .colab-df-convert:hover {\n",
       "      background-color: #434B5C;\n",
       "      box-shadow: 0px 1px 3px 1px rgba(0, 0, 0, 0.15);\n",
       "      filter: drop-shadow(0px 1px 2px rgba(0, 0, 0, 0.3));\n",
       "      fill: #FFFFFF;\n",
       "    }\n",
       "  </style>\n",
       "\n",
       "      <script>\n",
       "        const buttonEl =\n",
       "          document.querySelector('#df-7dc1e01c-13b5-418e-8498-56b1dc66c108 button.colab-df-convert');\n",
       "        buttonEl.style.display =\n",
       "          google.colab.kernel.accessAllowed ? 'block' : 'none';\n",
       "\n",
       "        async function convertToInteractive(key) {\n",
       "          const element = document.querySelector('#df-7dc1e01c-13b5-418e-8498-56b1dc66c108');\n",
       "          const dataTable =\n",
       "            await google.colab.kernel.invokeFunction('convertToInteractive',\n",
       "                                                     [key], {});\n",
       "          if (!dataTable) return;\n",
       "\n",
       "          const docLinkHtml = 'Like what you see? Visit the ' +\n",
       "            '<a target=\"_blank\" href=https://colab.research.google.com/notebooks/data_table.ipynb>data table notebook</a>'\n",
       "            + ' to learn more about interactive tables.';\n",
       "          element.innerHTML = '';\n",
       "          dataTable['output_type'] = 'display_data';\n",
       "          await google.colab.output.renderOutput(dataTable, element);\n",
       "          const docLink = document.createElement('div');\n",
       "          docLink.innerHTML = docLinkHtml;\n",
       "          element.appendChild(docLink);\n",
       "        }\n",
       "      </script>\n",
       "    </div>\n",
       "  </div>\n",
       "  "
      ],
      "text/plain": [
       "    Year                                          Player(s)  Goals    zscore\n",
       "0   1930                                  Guillermo Stábile      8  0.443242\n",
       "1   1934                                    Oldřich Nejedlý      5 -0.952971\n",
       "2   1938                                           Leônidas      7 -0.022162\n",
       "3   1950                                             Ademir      8  0.443242\n",
       "4   1954                                      Sándor Kocsis     11  1.839455\n",
       "5   1958                                      Just Fontaine     13  2.770264\n",
       "6   1962  Garrincha, Vavá, Leonel Sánchez, Flórián Alber...      4 -1.418375\n",
       "7   1966                                            Eusébio      9  0.908647\n",
       "8   1970                                        Gerd Müller     10  1.374051\n",
       "9   1974                                      Grzegorz Lato      7 -0.022162\n",
       "10  1978                                       Mario Kempes      6 -0.487566\n",
       "11  1982                                        Paolo Rossi      6 -0.487566\n",
       "12  1986                                       Gary Lineker      6 -0.487566\n",
       "13  1990                                Salvatore Schillaci      6 -0.487566\n",
       "14  1994                     Hristo Stoichkov, Oleg Salenko      6 -0.487566\n",
       "15  1998                                        Davor Šuker      6 -0.487566\n",
       "16  2002                                            Ronaldo      8  0.443242\n",
       "17  2006                                     Miroslav Klose      5 -0.952971\n",
       "18  2010  Thomas Müller, David Villa, Wesley Sneijder, D...      5 -0.952971\n",
       "19  2014                                    James Rodríguez      6 -0.487566\n",
       "20  2018                                         Harry Kane      6 -0.487566"
      ]
     },
     "execution_count": 26,
     "metadata": {},
     "output_type": "execute_result"
    }
   ],
   "source": [
    "zscore_goals = ss.zscore(top_goals['Goals'], ddof=0)\n",
    "top_goals = top_goals.assign(zscore=zscore_goals)\n",
    "top_goals.head(21)"
   ]
  },
  {
   "cell_type": "markdown",
   "metadata": {
    "id": "Oex5wWbKaEx4"
   },
   "source": [
    "Now, modify the previous plotting function to display the results."
   ]
  },
  {
   "cell_type": "code",
   "execution_count": null,
   "metadata": {
    "id": "-sa0MJcRaHpo"
   },
   "outputs": [],
   "source": [
    "def plot_anomaly_goals(score_data, threshold):\n",
    "    score_data = score_data.copy().sort_values(ascending=False).values\n",
    "    ranks = np.linspace(1, len(score_data), len(score_data))\n",
    "    mask_outlier = (score_data > threshold)\n",
    "    \n",
    "    plt.figure(dpi=150)\n",
    "    plt.plot(ranks[mask_outlier], score_data[mask_outlier], 'o', color='r', label='anomalies')\n",
    "    plt.plot(ranks[~mask_outlier], score_data[~mask_outlier], 'o', color='b', label='typical player')\n",
    "    plt.axhline(threshold,color='r', label='threshold', alpha=0.5)\n",
    "    plt.legend(loc='upper right')\n",
    "    plt.title('Z-score vs. player', fontweight='bold')\n",
    "    plt.xticks(np.arange(0, 21, step=2.0))\n",
    "    plt.xlabel('Player Rank')\n",
    "    plt.ylabel('Z-score')\n",
    "    plt.show()"
   ]
  },
  {
   "cell_type": "code",
   "execution_count": null,
   "metadata": {
    "colab": {
     "base_uri": "https://localhost:8080/",
     "height": 594
    },
    "id": "i58-WNU1aNGU",
    "outputId": "560394ef-6bcb-43e2-e8ca-2831f77d52a0"
   },
   "outputs": [
    {
     "data": {
      "image/png": "[encoded data removed]",
      "text/plain": [
       "<Figure size 900x600 with 1 Axes>"
      ]
     },
     "metadata": {
      "needs_background": "light"
     },
     "output_type": "display_data"
    }
   ],
   "source": [
    "plot_anomaly_goals(top_goals['zscore'], 2)"
   ]
  },
  {
   "cell_type": "markdown",
   "metadata": {
    "id": "DoVRMSxWaSka"
   },
   "source": [
    "Only one player is picked out: Just Fontaine."
   ]
  },
  {
   "cell_type": "code",
   "execution_count": null,
   "metadata": {
    "colab": {
     "base_uri": "https://localhost:8080/",
     "height": 81
    },
    "id": "dq3YD55SaVO6",
    "outputId": "ffc146c3-2ad2-4ab3-fcf0-cbcff25265fa"
   },
   "outputs": [
    {
     "data": {
      "text/html": [
       "\n",
       "  <div id=\"df-d9bcfa7d-4f76-4fa0-87fd-a57b5ab4bfe1\">\n",
       "    <div class=\"colab-df-container\">\n",
       "      <div>\n",
       "<style scoped>\n",
       "    .dataframe tbody tr th:only-of-type {\n",
       "        vertical-align: middle;\n",
       "    }\n",
       "\n",
       "    .dataframe tbody tr th {\n",
       "        vertical-align: top;\n",
       "    }\n",
       "\n",
       "    .dataframe thead th {\n",
       "        text-align: right;\n",
       "    }\n",
       "</style>\n",
       "<table border=\"1\" class=\"dataframe\">\n",
       "  <thead>\n",
       "    <tr style=\"text-align: right;\">\n",
       "      <th></th>\n",
       "      <th>Year</th>\n",
       "      <th>Player(s)</th>\n",
       "      <th>Goals</th>\n",
       "      <th>zscore</th>\n",
       "    </tr>\n",
       "  </thead>\n",
       "  <tbody>\n",
       "    <tr>\n",
       "      <th>5</th>\n",
       "      <td>1958</td>\n",
       "      <td>Just Fontaine</td>\n",
       "      <td>13</td>\n",
       "      <td>2.770264</td>\n",
       "    </tr>\n",
       "  </tbody>\n",
       "</table>\n",
       "</div>\n",
       "      <button class=\"colab-df-convert\" onclick=\"convertToInteractive('df-d9bcfa7d-4f76-4fa0-87fd-a57b5ab4bfe1')\"\n",
       "              title=\"Convert this dataframe to an interactive table.\"\n",
       "              style=\"display:none;\">\n",
       "        \n",
       "  <svg xmlns=\"http://www.w3.org/2000/svg\" height=\"24px\"viewBox=\"0 0 24 24\"\n",
       "       width=\"24px\">\n",
       "    <path d=\"M0 0h24v24H0V0z\" fill=\"none\"/>\n",
       "    <path d=\"M18.56 5.44l.94 2.06.94-2.06 2.06-.94-2.06-.94-.94-2.06-.94 2.06-2.06.94zm-11 1L8.5 8.5l.94-2.06 2.06-.94-2.06-.94L8.5 2.5l-.94 2.06-2.06.94zm10 10l.94 2.06.94-2.06 2.06-.94-2.06-.94-.94-2.06-.94 2.06-2.06.94z\"/><path d=\"M17.41 7.96l-1.37-1.37c-.4-.4-.92-.59-1.43-.59-.52 0-1.04.2-1.43.59L10.3 9.45l-7.72 7.72c-.78.78-.78 2.05 0 2.83L4 21.41c.39.39.9.59 1.41.59.51 0 1.02-.2 1.41-.59l7.78-7.78 2.81-2.81c.8-.78.8-2.07 0-2.86zM5.41 20L4 18.59l7.72-7.72 1.47 1.35L5.41 20z\"/>\n",
       "  </svg>\n",
       "      </button>\n",
       "      \n",
       "  <style>\n",
       "    .colab-df-container {\n",
       "      display:flex;\n",
       "      flex-wrap:wrap;\n",
       "      gap: 12px;\n",
       "    }\n",
       "\n",
       "    .colab-df-convert {\n",
       "      background-color: #E8F0FE;\n",
       "      border: none;\n",
       "      border-radius: 50%;\n",
       "      cursor: pointer;\n",
       "      display: none;\n",
       "      fill: #1967D2;\n",
       "      height: 32px;\n",
       "      padding: 0 0 0 0;\n",
       "      width: 32px;\n",
       "    }\n",
       "\n",
       "    .colab-df-convert:hover {\n",
       "      background-color: #E2EBFA;\n",
       "      box-shadow: 0px 1px 2px rgba(60, 64, 67, 0.3), 0px 1px 3px 1px rgba(60, 64, 67, 0.15);\n",
       "      fill: #174EA6;\n",
       "    }\n",
       "\n",
       "    [theme=dark] .colab-df-convert {\n",
       "      background-color: #3B4455;\n",
       "      fill: #D2E3FC;\n",
       "    }\n",
       "\n",
       "    [theme=dark] .colab-df-convert:hover {\n",
       "      background-color: #434B5C;\n",
       "      box-shadow: 0px 1px 3px 1px rgba(0, 0, 0, 0.15);\n",
       "      filter: drop-shadow(0px 1px 2px rgba(0, 0, 0, 0.3));\n",
       "      fill: #FFFFFF;\n",
       "    }\n",
       "  </style>\n",
       "\n",
       "      <script>\n",
       "        const buttonEl =\n",
       "          document.querySelector('#df-d9bcfa7d-4f76-4fa0-87fd-a57b5ab4bfe1 button.colab-df-convert');\n",
       "        buttonEl.style.display =\n",
       "          google.colab.kernel.accessAllowed ? 'block' : 'none';\n",
       "\n",
       "        async function convertToInteractive(key) {\n",
       "          const element = document.querySelector('#df-d9bcfa7d-4f76-4fa0-87fd-a57b5ab4bfe1');\n",
       "          const dataTable =\n",
       "            await google.colab.kernel.invokeFunction('convertToInteractive',\n",
       "                                                     [key], {});\n",
       "          if (!dataTable) return;\n",
       "\n",
       "          const docLinkHtml = 'Like what you see? Visit the ' +\n",
       "            '<a target=\"_blank\" href=https://colab.research.google.com/notebooks/data_table.ipynb>data table notebook</a>'\n",
       "            + ' to learn more about interactive tables.';\n",
       "          element.innerHTML = '';\n",
       "          dataTable['output_type'] = 'display_data';\n",
       "          await google.colab.output.renderOutput(dataTable, element);\n",
       "          const docLink = document.createElement('div');\n",
       "          docLink.innerHTML = docLinkHtml;\n",
       "          element.appendChild(docLink);\n",
       "        }\n",
       "      </script>\n",
       "    </div>\n",
       "  </div>\n",
       "  "
      ],
      "text/plain": [
       "   Year      Player(s)  Goals    zscore\n",
       "5  1958  Just Fontaine     13  2.770264"
      ]
     },
     "execution_count": 29,
     "metadata": {},
     "output_type": "execute_result"
    }
   ],
   "source": [
    "zscore_anomalies_players = top_goals[(top_goals['zscore'] > 2)]\n",
    "zscore_anomalies_players"
   ]
  },
  {
   "cell_type": "markdown",
   "metadata": {
    "id": "tFhPWmdDagg_"
   },
   "source": [
    "Fontaine was indeed an amazing player, but clearly our analysis is flawed. By looking at the plot, we see that in 12 out of 21 competitions, the top goalscorer(s) scored less than the mean number of goals (7.05).\n",
    "\n",
    "Question: What's going on?\n",
    "\n",
    "Answer: the mean and standard deviation are themselves susceptible to the presence of anomalies. With his 13 goals, the amazing Fontaine is raising the mean so much that most players fall below it. As a result, he becomes the only anomaly.\n",
    "Let's repeat this analysis with the modified z-score and see what happens."
   ]
  },
  {
   "cell_type": "code",
   "execution_count": null,
   "metadata": {
    "colab": {
     "base_uri": "https://localhost:8080/"
    },
    "id": "zyGouWynayp1",
    "outputId": "859640f3-bea1-4d8a-b68d-bf9a9092035d"
   },
   "outputs": [
    {
     "data": {
      "text/plain": [
       "6.0"
      ]
     },
     "execution_count": 30,
     "metadata": {},
     "output_type": "execute_result"
    }
   ],
   "source": [
    "median_goals = np.median(top_goals['Goals'])\n",
    "median_goals"
   ]
  },
  {
   "cell_type": "code",
   "execution_count": null,
   "metadata": {
    "id": "0S1V377Ya8cF"
   },
   "outputs": [],
   "source": []
  },
  {
   "cell_type": "markdown",
   "metadata": {
    "id": "On6rKWGLa_zQ"
   },
   "source": [
    "As before, compute the modified z-score for all players then plot and list the results. Note that the threshold remains the same at  y=+2\n",
    " ."
   ]
  },
  {
   "cell_type": "code",
   "execution_count": null,
   "metadata": {
    "id": "S4MNvo11bCZW"
   },
   "outputs": [],
   "source": [
    "mod_zscore_goals, mad_goals = modified_zscore(top_goals['Goals'])\n",
    "top_goals = top_goals.assign(mod_zscore=mod_zscore_goals)"
   ]
  },
  {
   "cell_type": "code",
   "execution_count": null,
   "metadata": {
    "id": "sfb1Kx0ebGxF"
   },
   "outputs": [],
   "source": [
    "def plot_anomaly_goals_2(score_data, threshold):\n",
    "    score_data = score_data.copy().sort_values(ascending=False).values\n",
    "    ranks = np.linspace(1, len(score_data), len(score_data))\n",
    "    mask_outliers = (score_data > threshold)\n",
    "    \n",
    "    plt.figure(dpi=150)\n",
    "    plt.plot(ranks[mask_outliers], score_data[mask_outliers],'o', color='r',label='anomalies')\n",
    "    plt.plot(ranks[~mask_outliers], score_data[~mask_outliers],'o', color='b', label='typical player')\n",
    "    plt.axhline(threshold,color='r',label='threshold', alpha=0.5)\n",
    "    plt.legend(loc = 'upper right')\n",
    "    plt.title('Modified z-score vs. player', fontweight='bold')\n",
    "    plt.xticks(np.arange(0, 21, step=2.0))\n",
    "    plt.xlabel('Player')\n",
    "    plt.ylabel('Modified z-score')\n",
    "    plt.show()"
   ]
  },
  {
   "cell_type": "code",
   "execution_count": null,
   "metadata": {
    "colab": {
     "base_uri": "https://localhost:8080/",
     "height": 594
    },
    "id": "u5ZHjlqgbKYf",
    "outputId": "5d842877-11f6-4847-c6be-83a7d23b7557"
   },
   "outputs": [
    {
     "data": {
      "image/png": "[encoded data removed]",
      "text/plain": [
       "<Figure size 900x600 with 1 Axes>"
      ]
     },
     "metadata": {
      "needs_background": "light"
     },
     "output_type": "display_data"
    }
   ],
   "source": [
    "plot_anomaly_goals_2(top_goals['mod_zscore'], 2)"
   ]
  },
  {
   "cell_type": "code",
   "execution_count": null,
   "metadata": {
    "colab": {
     "base_uri": "https://localhost:8080/",
     "height": 174
    },
    "id": "7VlxVT7hbON-",
    "outputId": "d8bb31ea-7273-4c92-d1eb-2b823c86b30d"
   },
   "outputs": [
    {
     "data": {
      "text/html": [
       "\n",
       "  <div id=\"df-e9f24a51-a48f-48e2-8aa8-17b55718e1a7\">\n",
       "    <div class=\"colab-df-container\">\n",
       "      <div>\n",
       "<style scoped>\n",
       "    .dataframe tbody tr th:only-of-type {\n",
       "        vertical-align: middle;\n",
       "    }\n",
       "\n",
       "    .dataframe tbody tr th {\n",
       "        vertical-align: top;\n",
       "    }\n",
       "\n",
       "    .dataframe thead th {\n",
       "        text-align: right;\n",
       "    }\n",
       "</style>\n",
       "<table border=\"1\" class=\"dataframe\">\n",
       "  <thead>\n",
       "    <tr style=\"text-align: right;\">\n",
       "      <th></th>\n",
       "      <th>Year</th>\n",
       "      <th>Player(s)</th>\n",
       "      <th>Goals</th>\n",
       "      <th>zscore</th>\n",
       "      <th>mod_zscore</th>\n",
       "    </tr>\n",
       "  </thead>\n",
       "  <tbody>\n",
       "    <tr>\n",
       "      <th>4</th>\n",
       "      <td>1954</td>\n",
       "      <td>Sándor Kocsis</td>\n",
       "      <td>11</td>\n",
       "      <td>1.839455</td>\n",
       "      <td>3.372454</td>\n",
       "    </tr>\n",
       "    <tr>\n",
       "      <th>5</th>\n",
       "      <td>1958</td>\n",
       "      <td>Just Fontaine</td>\n",
       "      <td>13</td>\n",
       "      <td>2.770264</td>\n",
       "      <td>4.721435</td>\n",
       "    </tr>\n",
       "    <tr>\n",
       "      <th>7</th>\n",
       "      <td>1966</td>\n",
       "      <td>Eusébio</td>\n",
       "      <td>9</td>\n",
       "      <td>0.908647</td>\n",
       "      <td>2.023472</td>\n",
       "    </tr>\n",
       "    <tr>\n",
       "      <th>8</th>\n",
       "      <td>1970</td>\n",
       "      <td>Gerd Müller</td>\n",
       "      <td>10</td>\n",
       "      <td>1.374051</td>\n",
       "      <td>2.697963</td>\n",
       "    </tr>\n",
       "  </tbody>\n",
       "</table>\n",
       "</div>\n",
       "      <button class=\"colab-df-convert\" onclick=\"convertToInteractive('df-e9f24a51-a48f-48e2-8aa8-17b55718e1a7')\"\n",
       "              title=\"Convert this dataframe to an interactive table.\"\n",
       "              style=\"display:none;\">\n",
       "        \n",
       "  <svg xmlns=\"http://www.w3.org/2000/svg\" height=\"24px\"viewBox=\"0 0 24 24\"\n",
       "       width=\"24px\">\n",
       "    <path d=\"M0 0h24v24H0V0z\" fill=\"none\"/>\n",
       "    <path d=\"M18.56 5.44l.94 2.06.94-2.06 2.06-.94-2.06-.94-.94-2.06-.94 2.06-2.06.94zm-11 1L8.5 8.5l.94-2.06 2.06-.94-2.06-.94L8.5 2.5l-.94 2.06-2.06.94zm10 10l.94 2.06.94-2.06 2.06-.94-2.06-.94-.94-2.06-.94 2.06-2.06.94z\"/><path d=\"M17.41 7.96l-1.37-1.37c-.4-.4-.92-.59-1.43-.59-.52 0-1.04.2-1.43.59L10.3 9.45l-7.72 7.72c-.78.78-.78 2.05 0 2.83L4 21.41c.39.39.9.59 1.41.59.51 0 1.02-.2 1.41-.59l7.78-7.78 2.81-2.81c.8-.78.8-2.07 0-2.86zM5.41 20L4 18.59l7.72-7.72 1.47 1.35L5.41 20z\"/>\n",
       "  </svg>\n",
       "      </button>\n",
       "      \n",
       "  <style>\n",
       "    .colab-df-container {\n",
       "      display:flex;\n",
       "      flex-wrap:wrap;\n",
       "      gap: 12px;\n",
       "    }\n",
       "\n",
       "    .colab-df-convert {\n",
       "      background-color: #E8F0FE;\n",
       "      border: none;\n",
       "      border-radius: 50%;\n",
       "      cursor: pointer;\n",
       "      display: none;\n",
       "      fill: #1967D2;\n",
       "      height: 32px;\n",
       "      padding: 0 0 0 0;\n",
       "      width: 32px;\n",
       "    }\n",
       "\n",
       "    .colab-df-convert:hover {\n",
       "      background-color: #E2EBFA;\n",
       "      box-shadow: 0px 1px 2px rgba(60, 64, 67, 0.3), 0px 1px 3px 1px rgba(60, 64, 67, 0.15);\n",
       "      fill: #174EA6;\n",
       "    }\n",
       "\n",
       "    [theme=dark] .colab-df-convert {\n",
       "      background-color: #3B4455;\n",
       "      fill: #D2E3FC;\n",
       "    }\n",
       "\n",
       "    [theme=dark] .colab-df-convert:hover {\n",
       "      background-color: #434B5C;\n",
       "      box-shadow: 0px 1px 3px 1px rgba(0, 0, 0, 0.15);\n",
       "      filter: drop-shadow(0px 1px 2px rgba(0, 0, 0, 0.3));\n",
       "      fill: #FFFFFF;\n",
       "    }\n",
       "  </style>\n",
       "\n",
       "      <script>\n",
       "        const buttonEl =\n",
       "          document.querySelector('#df-e9f24a51-a48f-48e2-8aa8-17b55718e1a7 button.colab-df-convert');\n",
       "        buttonEl.style.display =\n",
       "          google.colab.kernel.accessAllowed ? 'block' : 'none';\n",
       "\n",
       "        async function convertToInteractive(key) {\n",
       "          const element = document.querySelector('#df-e9f24a51-a48f-48e2-8aa8-17b55718e1a7');\n",
       "          const dataTable =\n",
       "            await google.colab.kernel.invokeFunction('convertToInteractive',\n",
       "                                                     [key], {});\n",
       "          if (!dataTable) return;\n",
       "\n",
       "          const docLinkHtml = 'Like what you see? Visit the ' +\n",
       "            '<a target=\"_blank\" href=https://colab.research.google.com/notebooks/data_table.ipynb>data table notebook</a>'\n",
       "            + ' to learn more about interactive tables.';\n",
       "          element.innerHTML = '';\n",
       "          dataTable['output_type'] = 'display_data';\n",
       "          await google.colab.output.renderOutput(dataTable, element);\n",
       "          const docLink = document.createElement('div');\n",
       "          docLink.innerHTML = docLinkHtml;\n",
       "          element.appendChild(docLink);\n",
       "        }\n",
       "      </script>\n",
       "    </div>\n",
       "  </div>\n",
       "  "
      ],
      "text/plain": [
       "   Year      Player(s)  Goals    zscore  mod_zscore\n",
       "4  1954  Sándor Kocsis     11  1.839455    3.372454\n",
       "5  1958  Just Fontaine     13  2.770264    4.721435\n",
       "7  1966        Eusébio      9  0.908647    2.023472\n",
       "8  1970    Gerd Müller     10  1.374051    2.697963"
      ]
     },
     "execution_count": 34,
     "metadata": {},
     "output_type": "execute_result"
    }
   ],
   "source": [
    "mod_zscore_anomalies_players = top_goals[(top_goals['mod_zscore'] > 2)]\n",
    "mod_zscore_anomalies_players"
   ]
  },
  {
   "cell_type": "code",
   "execution_count": null,
   "metadata": {
    "colab": {
     "base_uri": "https://localhost:8080/"
    },
    "id": "ex7Dud2JbUGz",
    "outputId": "4c37466b-5454-4728-db1f-4d8b0ff95171"
   },
   "outputs": [
    {
     "name": "stdout",
     "output_type": "stream",
     "text": [
      "The value of MAD is 1.00\n"
     ]
    }
   ],
   "source": [
    "print('The value of MAD is {:.2f}'.format(mad_goals))"
   ]
  },
  {
   "cell_type": "markdown",
   "metadata": {
    "id": "CJC5wKj7HSKN"
   },
   "source": [
    "and  k∗MAD is 1.48, which is smaller than the standard deviation (2.05). \n",
    "\n",
    "We see that the anomalies have a larger effect on the standard deviation, which depends on the square of the deviation from the mean (MAD depends linearly on the deviation).\n",
    "\n",
    "Of course, the data for top goal scorers is not normally distributed, so we can't associated probabilities with our scores, but our analysis does show the need to think about the scoring method used with the data."
   ]
  },
  {
   "cell_type": "markdown",
   "metadata": {
    "id": "X0NA-F15c1Nn"
   },
   "source": [
    "### **Q3) \tGenerate 8 random points and perform KNN and LOF for K=1 and K=3. Write your observations**"
   ]
  },
  {
   "cell_type": "code",
   "execution_count": 38,
   "metadata": {
    "executionInfo": {
     "elapsed": 12,
     "status": "ok",
     "timestamp": 1671628019827,
     "user": {
      "displayName": "Pooja Vartake3x 5",
      "userId": "01789600669758711961"
     },
     "user_tz": -330
    },
    "id": "sImnKidrc2Hw"
   },
   "outputs": [],
   "source": [
    "import numpy as np\n",
    "import sklearn.datasets as sk_data\n",
    "import sklearn.neighbors as neighbors\n",
    "import sys\n",
    "\n",
    "#np.set_printoptions(suppress=True, precision=4)"
   ]
  },
  {
   "cell_type": "code",
   "execution_count": 39,
   "metadata": {
    "colab": {
     "base_uri": "https://localhost:8080/"
    },
    "executionInfo": {
     "elapsed": 658,
     "status": "ok",
     "timestamp": 1671628044461,
     "user": {
      "displayName": "Pooja Vartake3x 5",
      "userId": "01789600669758711961"
     },
     "user_tz": -330
    },
    "id": "AnIW10jIlZY7",
    "outputId": "18ae09b2-82f3-4767-c57e-47c8cd1ecc67"
   },
   "outputs": [
    {
     "name": "stdout",
     "output_type": "stream",
     "text": [
      "[0.9 0.  1.  0.  0.5 0.2 1.  2. ]\n",
      "[1.  1.  0.  0.  0.5 0.5 0.5 2. ]\n"
     ]
    }
   ],
   "source": [
    "Y = np.array([[0.9, 1], [0, 1], [1, 0], [0, 0], [0.5, 0.5], [0.2, 0.5], [1, 0.5], [2, 2]])\n",
    "print(Y[:, 0])# all row values for zeroth column\n",
    "print(Y[:, 1])#all row value for 1st column "
   ]
  },
  {
   "cell_type": "code",
   "execution_count": 40,
   "metadata": {
    "colab": {
     "base_uri": "https://localhost:8080/",
     "height": 598
    },
    "executionInfo": {
     "elapsed": 518,
     "status": "ok",
     "timestamp": 1671628199481,
     "user": {
      "displayName": "Pooja Vartake3x 5",
      "userId": "01789600669758711961"
     },
     "user_tz": -330
    },
    "id": "-cJHPhjedJIZ",
    "outputId": "74e7ee45-f14b-49e5-bb8a-eca0d935e63f"
   },
   "outputs": [
    {
     "data": {
      "image/png": "[encoded data removed]",
      "text/plain": [
       "<Figure size 900x600 with 1 Axes>"
      ]
     },
     "metadata": {
      "needs_background": "light"
     },
     "output_type": "display_data"
    }
   ],
   "source": [
    "X = np.array([[0.9, 1], [0, 1], [1, 0], [0, 0], [0.5, 0.5], [0.2, 0.5], [1, 0.5], [2, 2]])\n",
    "\n",
    "plt.figure(dpi=150)\n",
    "plt.title('Upper right point is anomalous')\n",
    "plt.xlabel('$X_1$')\n",
    "plt.ylabel('$X_2$')\n",
    "plt.plot(X[:, 0], X[:, 1], 'o');"
   ]
  },
  {
   "cell_type": "markdown",
   "metadata": {
    "id": "NxwDhYmndQCQ"
   },
   "source": [
    "Let's create a function to visualize a query point and its neighbors more explicitly."
   ]
  },
  {
   "cell_type": "code",
   "execution_count": 52,
   "metadata": {
    "executionInfo": {
     "elapsed": 3,
     "status": "ok",
     "timestamp": 1671628802413,
     "user": {
      "displayName": "Pooja Vartake3x 5",
      "userId": "01789600669758711961"
     },
     "user_tz": -330
    },
    "id": "2dCdDWhcdTSS"
   },
   "outputs": [],
   "source": [
    "def plot_point_and_k_neighbors(X, highlight_index, n_neighbors=2):\n",
    "    \"Plots the points in X, and shows the n_neighbors of the highlight_index-th point\"\n",
    "    nn = neighbors.NearestNeighbors(n_neighbors=n_neighbors).fit(X)#The fit() method takes the training data as arguments, \n",
    "    #which can be one array in the case of unsupervised learning\n",
    "    dist, index = nn.kneighbors()\n",
    "    #print(dist)\n",
    "    #print(index)\n",
    "    src_pt = X[highlight_index, :]\n",
    "    #print(src_pt)\n",
    "    plt.figure(dpi=150)\n",
    "    # draw lines first, so points go on top\n",
    "    #print(index[highlight_index])\n",
    "    for dest_index in index[highlight_index]:\n",
    "        dest_pt = X[dest_index, :]\n",
    "        #print(list(zip(src_pt, dest_pt)))\n",
    "        plt.plot(*list(zip(src_pt, dest_pt)),'k--')\n",
    "    plt.plot(X[:, 0], X[:, 1], 'o', label='Not k-neighbors', alpha=0.3)\n",
    "    plt.plot(src_pt, 'o', label='The query point')\n",
    "    #print(index[highlight_index])\n",
    "    #print(X[index[highlight_index], 0], X[index[highlight_index], 1])\n",
    "    plt.plot(X[index[highlight_index], 0], X[index[highlight_index], 1], 'o', label='k-neighbors')\n",
    "    plt.xlabel('$X_1$')\n",
    "    plt.ylabel('$X_2$')\n",
    "    plt.legend()\n"
   ]
  },
  {
   "cell_type": "markdown",
   "metadata": {
    "id": "33a6SjBHdaA0"
   },
   "source": [
    "Here we can see the 4 points close to the query point (index of 0 in our data) are relatively close. Let's look at the anomalous point in the upper right (this point has an index of 7):"
   ]
  },
  {
   "cell_type": "code",
   "execution_count": 53,
   "metadata": {
    "colab": {
     "base_uri": "https://localhost:8080/",
     "height": 566
    },
    "executionInfo": {
     "elapsed": 712,
     "status": "ok",
     "timestamp": 1671628810574,
     "user": {
      "displayName": "Pooja Vartake3x 5",
      "userId": "01789600669758711961"
     },
     "user_tz": -330
    },
    "id": "jZ9g9pVedfmz",
    "outputId": "c4310d55-5391-48e8-944f-6adc04b0e85c"
   },
   "outputs": [
    {
     "data": {
      "image/png": "[encoded data removed]",
      "text/plain": [
       "<Figure size 900x600 with 1 Axes>"
      ]
     },
     "metadata": {
      "needs_background": "light"
     },
     "output_type": "display_data"
    }
   ],
   "source": [
    "plot_point_and_k_neighbors(X, 6, n_neighbors=3)"
   ]
  },
  {
   "cell_type": "markdown",
   "metadata": {
    "id": "_ymdULH3dsEw"
   },
   "source": [
    "We can see in this case all of the 4-nearest neighbors to our point are far away, so it seems reasonably unambiguous to call this point an anomaly.\n",
    "Let's add one more point next to the anomaly, and see how choosing \"k\" and the scoring function affects things."
   ]
  },
  {
   "cell_type": "code",
   "execution_count": null,
   "metadata": {
    "colab": {
     "base_uri": "https://localhost:8080/",
     "height": 566
    },
    "id": "TQU7L_rLdzHY",
    "outputId": "55e19d76-40e3-47f4-828a-7f75d371089b"
   },
   "outputs": [
    {
     "data": {
      "image/png": "[encoded data removed]",
      "text/plain": [
       "<Figure size 900x600 with 1 Axes>"
      ]
     },
     "metadata": {
      "needs_background": "light"
     },
     "output_type": "display_data"
    }
   ],
   "source": [
    "# Toy dataset with two adjacent anomalies\n",
    "X2 = np.concatenate([X, [[1.9, 2.0]]])\n",
    "\n",
    "# Look at nearest neighbor (k=1)\n",
    "plot_point_and_k_neighbors(X2, 7, n_neighbors=1)"
   ]
  },
  {
   "cell_type": "code",
   "execution_count": null,
   "metadata": {
    "id": "-r0PYUl7Ndl-"
   },
   "outputs": [],
   "source": [
    "def print_ranked_scores(obs, scores):\n",
    "    scores_and_obs = sorted(zip(scores, obs), key=lambda t: t[0], reverse=True)\n",
    "    print('Rank  Point\\t\\tScore')\n",
    "    print('------------------------------')\n",
    "    for index, score_ob in enumerate(scores_and_obs):\n",
    "        score, point = score_ob\n",
    "        print(f'{index+1:3d}.  {point}\\t\\t{score:6.4f}')\n",
    "\n",
    "# Look at the outliers using 3 neighbors"
   ]
  },
  {
   "cell_type": "code",
   "execution_count": 37,
   "metadata": {
    "colab": {
     "base_uri": "https://localhost:8080/"
    },
    "executionInfo": {
     "elapsed": 392,
     "status": "ok",
     "timestamp": 1671627477451,
     "user": {
      "displayName": "Pooja Vartake3x 5",
      "userId": "01789600669758711961"
     },
     "user_tz": -330
    },
    "id": "sRLD5IvgwtY8",
    "outputId": "bc1931bb-7ca4-43d8-fc4f-edd560388bfc"
   },
   "outputs": [
    {
     "name": "stdout",
     "output_type": "stream",
     "text": [
      "[(0, 'apple'), (1, 'banana'), (2, 'cherry')]\n"
     ]
    }
   ],
   "source": [
    "x1 = ('apple', 'banana', 'cherry')\n",
    "y1 = enumerate(x1)\n",
    "\n",
    "print(list(y1))"
   ]
  },
  {
   "cell_type": "code",
   "execution_count": null,
   "metadata": {
    "colab": {
     "base_uri": "https://localhost:8080/"
    },
    "id": "lvilQ57oNc_b",
    "outputId": "315dc5a1-ea47-4928-b047-8edd87a13a5d"
   },
   "outputs": [
    {
     "name": "stdout",
     "output_type": "stream",
     "text": [
      "Rank  Point\t\tScore\n",
      "------------------------------\n",
      "  1.  [2. 2.]\t\t1.8608\n",
      "  2.  [1.9 2. ]\t\t1.8293\n",
      "  3.  [0.2 0.5]\t\t1.2154\n",
      "  4.  [1.  0.5]\t\t1.2091\n",
      "  5.  [0. 0.]\t\t1.0333\n",
      "  6.  [0. 1.]\t\t1.0120\n",
      "  7.  [1. 0.]\t\t0.9554\n",
      "  8.  [0.9 1. ]\t\t0.8891\n",
      "  9.  [0.5 0.5]\t\t0.8272\n"
     ]
    }
   ],
   "source": [
    "# LOF for KNN 3\n",
    "\n",
    "import sklearn.neighbors as neighbors\n",
    "lof = neighbors.LocalOutlierFactor(n_neighbors=3, contamination='auto')\n",
    "lof.fit(X2)\n",
    "sk_lof = -lof.negative_outlier_factor_#opposite LOF of given values or training sample \n",
    "print_ranked_scores(X2, sk_lof)"
   ]
  },
  {
   "cell_type": "code",
   "execution_count": null,
   "metadata": {
    "colab": {
     "base_uri": "https://localhost:8080/"
    },
    "id": "uLM3JBeoN2aL",
    "outputId": "0870c448-2bba-401d-c038-ceb007594e1b"
   },
   "outputs": [
    {
     "name": "stdout",
     "output_type": "stream",
     "text": [
      "[[0.5099]\n",
      " [0.5385]\n",
      " [0.5   ]\n",
      " [0.5385]\n",
      " [0.3   ]\n",
      " [0.3   ]\n",
      " [0.5   ]\n",
      " [0.1   ]\n",
      " [0.1   ]]\n",
      "Rank  Point\t\tScore\n",
      "------------------------------\n",
      "  1.  [0. 1.]\t\t0.5385\n",
      "  2.  [0. 0.]\t\t0.5385\n",
      "  3.  [0.9 1. ]\t\t0.5099\n",
      "  4.  [1. 0.]\t\t0.5000\n",
      "  5.  [1.  0.5]\t\t0.5000\n",
      "  6.  [0.5 0.5]\t\t0.3000\n",
      "  7.  [0.2 0.5]\t\t0.3000\n",
      "  8.  [2. 2.]\t\t0.1000\n",
      "  9.  [1.9 2. ]\t\t0.1000\n"
     ]
    }
   ],
   "source": [
    "#LOF for KNN 1\n",
    "\n",
    "def do_nn_outlier_scores(obs, n_neighbors=1):\n",
    "    \"\"\"\n",
    "    Gives the score of a point as the distance from point to its k-th nearest neighbor.\n",
    "    Larger score means more likely to be an outlier\n",
    "    \"\"\"\n",
    "    nn = neighbors.NearestNeighbors(n_neighbors=n_neighbors)\n",
    "    nn.fit(obs)\n",
    "    dists, idx = nn.kneighbors()\n",
    "    print(dists)\n",
    "    scores = dists[:,-1]\n",
    "    return scores\n",
    "\n",
    "# Test \n",
    "print_ranked_scores(X2, do_nn_outlier_scores(X2, 1))"
   ]
  },
  {
   "cell_type": "markdown",
   "metadata": {
    "id": "qewBm2SI8DeZ"
   },
   "source": [
    "### **Q4)**![lab 8.jpg](data:image/jpeg;base64,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)"
   ]
  },
  {
   "cell_type": "code",
   "execution_count": null,
   "metadata": {
    "colab": {
     "base_uri": "https://localhost:8080/"
    },
    "id": "iZr0T-T_8bkp",
    "outputId": "6810c301-795b-4ec7-a684-894e26df717e"
   },
   "outputs": [
    {
     "name": "stdout",
     "output_type": "stream",
     "text": [
      "Rank  Point\t\tScore\n",
      "------------------------------\n",
      "  1.  [2. 2.]\t\t1.1298\n",
      "  2.  [1.9 2. ]\t\t1.0878\n",
      "  3.  [0. 0.]\t\t0.7485\n",
      "  4.  [1. 0.]\t\t0.7168\n",
      "  5.  [0. 1.]\t\t0.7152\n",
      "  6.  [0.9 1. ]\t\t0.6701\n",
      "  7.  [1.  0.5]\t\t0.5033\n",
      "  8.  [0.5 0.5]\t\t0.4801\n",
      "  9.  [0.2 0.5]\t\t0.4590\n"
     ]
    }
   ],
   "source": [
    "def do_nn_avg_scores(obs, n_neighbors=1):\n",
    "  \n",
    "    nn = neighbors.NearestNeighbors(n_neighbors=n_neighbors)\n",
    "    nn.fit(obs)\n",
    "    dists, idx = nn.kneighbors()\n",
    "    return np.mean(dists , axis=1)\n",
    "\n",
    "# Test \n",
    "print_ranked_scores(X2,do_nn_avg_scores(X2, 3))"
   ]
  },
  {
   "cell_type": "code",
   "execution_count": null,
   "metadata": {
    "colab": {
     "base_uri": "https://localhost:8080/"
    },
    "id": "hUCYekWeOery",
    "outputId": "b2fc8bff-3d6e-4faf-e808-a0af2e1d1c6c"
   },
   "outputs": [
    {
     "name": "stdout",
     "output_type": "stream",
     "text": [
      "Rank  Point\t\tScore\n",
      "------------------------------\n",
      "  1.  [0. 0.]\t\t0.7024\n",
      "  2.  [0. 1.]\t\t0.6846\n",
      "  3.  [1. 0.]\t\t0.6705\n",
      "  4.  [0.9 1. ]\t\t0.6403\n",
      "  5.  [1.  0.5]\t\t0.5033\n",
      "  6.  [0.5 0.5]\t\t0.4351\n",
      "  7.  [0.2 0.5]\t\t0.4257\n",
      "  8.  [2. 2.]\t\t0.2672\n",
      "  9.  [1.9 2. ]\t\t0.2660\n"
     ]
    }
   ],
   "source": [
    "from scipy.stats import hmean\n",
    "def do_nn_harm_scores(obs, n_neighbors=1):\n",
    "  \n",
    "    nn = neighbors.NearestNeighbors(n_neighbors=n_neighbors)\n",
    "    nn.fit(obs)\n",
    "    dists, idx = nn.kneighbors()\n",
    "    return hmean(dists , axis=1)\n",
    "\n",
    "# Test \n",
    "print_ranked_scores(X2, do_nn_harm_scores(X2, 3))"
   ]
  },
  {
   "cell_type": "markdown",
   "metadata": {
    "id": "vuvXWeO8ev-w"
   },
   "source": [
    "### **Q5) This exercise refers to density-based methods (Local Outlier Factor; Section 3)**\n",
    "### **Create a function do_lof_outlier_scores(obs, n_neighbors=3) that computes outlier scores using the LOF method. Recall that the values returned by sklearn's implementation are negatives of what we want.**"
   ]
  },
  {
   "cell_type": "code",
   "execution_count": null,
   "metadata": {
    "id": "XWC5QrN9fXdE"
   },
   "outputs": [],
   "source": [
    "def do_lof_outlier_scores(obs, n_neighbors=3):\n",
    "    neigh = neighbors.NearestNeighbors(n_neighbors=3).fit(obs)\n",
    "    \n",
    "    #Return indices of and distances to the neighbors of each point\n",
    "    topk_dist, my_kneigh = neigh.kneighbors()\n",
    "    \n",
    "    # Create list of distances of furthest (kth) neighbor \n",
    "    k_dist = topk_dist[:,-1]\n",
    " \n",
    "    # Reachability distance: maximum of true distance between query neighbor and query point\n",
    "    # and distance to kth nearest neighbor of query neighbor\n",
    "    reach = np.maximum(topk_dist, k_dist[my_kneigh])\n",
    "    \n",
    "    # Local reacability density is reciprocal of average reachability distance\n",
    "    lrd = 1.0 / np.mean(reach, axis=1)\n",
    "    \n",
    "    # Local outlier factor is given by\n",
    "    # average local density of neighbors / local density of query point\n",
    "    lrd_ratios = lrd[my_kneigh] / lrd[:, np.newaxis]\n",
    "    lof = np.mean(lrd_ratios, axis=1)\n",
    "    \n",
    "    return lof"
   ]
  }
 ],
 "metadata": {
  "colab": {
   "provenance": []
  },
  "kernelspec": {
   "display_name": "Python 3 (ipykernel)",
   "language": "python",
   "name": "python3"
  },
  "language_info": {
   "codemirror_mode": {
    "name": "ipython",
    "version": 3
   },
   "file_extension": ".py",
   "mimetype": "text/x-python",
   "name": "python",
   "nbconvert_exporter": "python",
   "pygments_lexer": "ipython3",
   "version": "3.9.13"
  }
 },
 "nbformat": 4,
 "nbformat_minor": 1
}
